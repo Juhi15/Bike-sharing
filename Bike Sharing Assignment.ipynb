{
 "cells": [
  {
   "cell_type": "markdown",
   "metadata": {},
   "source": [
    "# Multiple Linear Regression Model"
   ]
  },
  {
   "cell_type": "markdown",
   "metadata": {},
   "source": [
    "# Prediction of Demand for Shared Bikes"
   ]
  },
  {
   "cell_type": "markdown",
   "metadata": {},
   "source": [
    "# Problem Statement:"
   ]
  },
  {
   "cell_type": "markdown",
   "metadata": {},
   "source": [
    "A bike-sharing system is a service in which bikes are made available for shared use to individuals on a short term basis for a price or free. Many bike share systems allow people to borrow a bike from a \"dock\" which is usually computer-controlled wherein the user enters the payment information, and the system unlocks it. This bike can then be returned to another dock belonging to the same system.\n",
    "\n",
    "A US bike-sharing provider BoomBikes has recently suffered considerable dips in their revenues due to the ongoing Corona pandemic. The company is finding it very difficult to sustain in the current market scenario. So, it has decided to come up with a mindful business plan to be able to accelerate its revenue as soon as the ongoing lockdown comes to an end, and the economy restores to a healthy state.\n",
    "\n",
    "In such an attempt, BoomBikes aspires to understand the demand for shared bikes among the people after this ongoing quarantine situation ends across the nation due to Covid-19. They have planned this to prepare themselves to cater to the people's needs once the situation gets better all around and stand out from other service providers and make huge profits.\n",
    "\n",
    "They have contracted a consulting company to understand the factors on which the demand for these shared bikes depends. Specifically, they want to understand the factors affecting the demand for these shared bikes in the American market. The company wants to know:\n",
    "\n",
    "Which variables are significant in predicting the demand for shared bikes.\n",
    "How well those variables describe the bike demands\n",
    "Based on various meteorological surveys and people's styles, the service provider firm has gathered a large dataset on daily bike demands across the American market based on some factors."
   ]
  },
  {
   "cell_type": "code",
   "execution_count": 2,
   "metadata": {},
   "outputs": [],
   "source": [
    "# Importing filterwarnings to ignore warning messages\n",
    "import warnings\n",
    "warnings.filterwarnings('ignore')"
   ]
  },
  {
   "cell_type": "code",
   "execution_count": 3,
   "metadata": {},
   "outputs": [],
   "source": [
    "# Importing the necessary libraries\n",
    "import numpy as np\n",
    "import pandas as pd\n",
    "import matplotlib.pyplot as plt\n",
    "import seaborn as sns"
   ]
  },
  {
   "cell_type": "code",
   "execution_count": 4,
   "metadata": {},
   "outputs": [
    {
     "data": {
      "text/html": [
       "<div>\n",
       "<style scoped>\n",
       "    .dataframe tbody tr th:only-of-type {\n",
       "        vertical-align: middle;\n",
       "    }\n",
       "\n",
       "    .dataframe tbody tr th {\n",
       "        vertical-align: top;\n",
       "    }\n",
       "\n",
       "    .dataframe thead th {\n",
       "        text-align: right;\n",
       "    }\n",
       "</style>\n",
       "<table border=\"1\" class=\"dataframe\">\n",
       "  <thead>\n",
       "    <tr style=\"text-align: right;\">\n",
       "      <th></th>\n",
       "      <th>instant</th>\n",
       "      <th>dteday</th>\n",
       "      <th>season</th>\n",
       "      <th>yr</th>\n",
       "      <th>mnth</th>\n",
       "      <th>holiday</th>\n",
       "      <th>weekday</th>\n",
       "      <th>workingday</th>\n",
       "      <th>weathersit</th>\n",
       "      <th>temp</th>\n",
       "      <th>atemp</th>\n",
       "      <th>hum</th>\n",
       "      <th>windspeed</th>\n",
       "      <th>casual</th>\n",
       "      <th>registered</th>\n",
       "      <th>cnt</th>\n",
       "    </tr>\n",
       "  </thead>\n",
       "  <tbody>\n",
       "    <tr>\n",
       "      <th>0</th>\n",
       "      <td>1</td>\n",
       "      <td>01-01-2018</td>\n",
       "      <td>1</td>\n",
       "      <td>0</td>\n",
       "      <td>1</td>\n",
       "      <td>0</td>\n",
       "      <td>1</td>\n",
       "      <td>1</td>\n",
       "      <td>2</td>\n",
       "      <td>14.110847</td>\n",
       "      <td>18.18125</td>\n",
       "      <td>80.5833</td>\n",
       "      <td>10.749882</td>\n",
       "      <td>331</td>\n",
       "      <td>654</td>\n",
       "      <td>985</td>\n",
       "    </tr>\n",
       "    <tr>\n",
       "      <th>1</th>\n",
       "      <td>2</td>\n",
       "      <td>02-01-2018</td>\n",
       "      <td>1</td>\n",
       "      <td>0</td>\n",
       "      <td>1</td>\n",
       "      <td>0</td>\n",
       "      <td>2</td>\n",
       "      <td>1</td>\n",
       "      <td>2</td>\n",
       "      <td>14.902598</td>\n",
       "      <td>17.68695</td>\n",
       "      <td>69.6087</td>\n",
       "      <td>16.652113</td>\n",
       "      <td>131</td>\n",
       "      <td>670</td>\n",
       "      <td>801</td>\n",
       "    </tr>\n",
       "    <tr>\n",
       "      <th>2</th>\n",
       "      <td>3</td>\n",
       "      <td>03-01-2018</td>\n",
       "      <td>1</td>\n",
       "      <td>0</td>\n",
       "      <td>1</td>\n",
       "      <td>0</td>\n",
       "      <td>3</td>\n",
       "      <td>1</td>\n",
       "      <td>1</td>\n",
       "      <td>8.050924</td>\n",
       "      <td>9.47025</td>\n",
       "      <td>43.7273</td>\n",
       "      <td>16.636703</td>\n",
       "      <td>120</td>\n",
       "      <td>1229</td>\n",
       "      <td>1349</td>\n",
       "    </tr>\n",
       "    <tr>\n",
       "      <th>3</th>\n",
       "      <td>4</td>\n",
       "      <td>04-01-2018</td>\n",
       "      <td>1</td>\n",
       "      <td>0</td>\n",
       "      <td>1</td>\n",
       "      <td>0</td>\n",
       "      <td>4</td>\n",
       "      <td>1</td>\n",
       "      <td>1</td>\n",
       "      <td>8.200000</td>\n",
       "      <td>10.60610</td>\n",
       "      <td>59.0435</td>\n",
       "      <td>10.739832</td>\n",
       "      <td>108</td>\n",
       "      <td>1454</td>\n",
       "      <td>1562</td>\n",
       "    </tr>\n",
       "    <tr>\n",
       "      <th>4</th>\n",
       "      <td>5</td>\n",
       "      <td>05-01-2018</td>\n",
       "      <td>1</td>\n",
       "      <td>0</td>\n",
       "      <td>1</td>\n",
       "      <td>0</td>\n",
       "      <td>5</td>\n",
       "      <td>1</td>\n",
       "      <td>1</td>\n",
       "      <td>9.305237</td>\n",
       "      <td>11.46350</td>\n",
       "      <td>43.6957</td>\n",
       "      <td>12.522300</td>\n",
       "      <td>82</td>\n",
       "      <td>1518</td>\n",
       "      <td>1600</td>\n",
       "    </tr>\n",
       "  </tbody>\n",
       "</table>\n",
       "</div>"
      ],
      "text/plain": [
       "   instant      dteday  season  yr  mnth  holiday  weekday  workingday  \\\n",
       "0        1  01-01-2018       1   0     1        0        1           1   \n",
       "1        2  02-01-2018       1   0     1        0        2           1   \n",
       "2        3  03-01-2018       1   0     1        0        3           1   \n",
       "3        4  04-01-2018       1   0     1        0        4           1   \n",
       "4        5  05-01-2018       1   0     1        0        5           1   \n",
       "\n",
       "   weathersit       temp     atemp      hum  windspeed  casual  registered  \\\n",
       "0           2  14.110847  18.18125  80.5833  10.749882     331         654   \n",
       "1           2  14.902598  17.68695  69.6087  16.652113     131         670   \n",
       "2           1   8.050924   9.47025  43.7273  16.636703     120        1229   \n",
       "3           1   8.200000  10.60610  59.0435  10.739832     108        1454   \n",
       "4           1   9.305237  11.46350  43.6957  12.522300      82        1518   \n",
       "\n",
       "    cnt  \n",
       "0   985  \n",
       "1   801  \n",
       "2  1349  \n",
       "3  1562  \n",
       "4  1600  "
      ]
     },
     "execution_count": 4,
     "metadata": {},
     "output_type": "execute_result"
    }
   ],
   "source": [
    "# Reading the bikes rental  dataset into 'bikes' dataframe\n",
    "\n",
    "bikes_sharing=pd.read_csv(\"C:\\\\Users\\\\juhi\\\\Downloads\\\\day.csv\")\n",
    "bikes_sharing.head()"
   ]
  },
  {
   "cell_type": "code",
   "execution_count": 5,
   "metadata": {},
   "outputs": [
    {
     "data": {
      "text/plain": [
       "(730, 16)"
      ]
     },
     "execution_count": 5,
     "metadata": {},
     "output_type": "execute_result"
    }
   ],
   "source": [
    "# looking at the shape of the bikes dataset\n",
    "bikes_sharing.shape"
   ]
  },
  {
   "cell_type": "code",
   "execution_count": 6,
   "metadata": {},
   "outputs": [
    {
     "data": {
      "text/html": [
       "<div>\n",
       "<style scoped>\n",
       "    .dataframe tbody tr th:only-of-type {\n",
       "        vertical-align: middle;\n",
       "    }\n",
       "\n",
       "    .dataframe tbody tr th {\n",
       "        vertical-align: top;\n",
       "    }\n",
       "\n",
       "    .dataframe thead th {\n",
       "        text-align: right;\n",
       "    }\n",
       "</style>\n",
       "<table border=\"1\" class=\"dataframe\">\n",
       "  <thead>\n",
       "    <tr style=\"text-align: right;\">\n",
       "      <th></th>\n",
       "      <th>instant</th>\n",
       "      <th>season</th>\n",
       "      <th>yr</th>\n",
       "      <th>mnth</th>\n",
       "      <th>holiday</th>\n",
       "      <th>weekday</th>\n",
       "      <th>workingday</th>\n",
       "      <th>weathersit</th>\n",
       "      <th>temp</th>\n",
       "      <th>atemp</th>\n",
       "      <th>hum</th>\n",
       "      <th>windspeed</th>\n",
       "      <th>casual</th>\n",
       "      <th>registered</th>\n",
       "      <th>cnt</th>\n",
       "    </tr>\n",
       "  </thead>\n",
       "  <tbody>\n",
       "    <tr>\n",
       "      <th>count</th>\n",
       "      <td>730.000000</td>\n",
       "      <td>730.000000</td>\n",
       "      <td>730.000000</td>\n",
       "      <td>730.000000</td>\n",
       "      <td>730.000000</td>\n",
       "      <td>730.000000</td>\n",
       "      <td>730.000000</td>\n",
       "      <td>730.000000</td>\n",
       "      <td>730.000000</td>\n",
       "      <td>730.000000</td>\n",
       "      <td>730.000000</td>\n",
       "      <td>730.000000</td>\n",
       "      <td>730.000000</td>\n",
       "      <td>730.000000</td>\n",
       "      <td>730.000000</td>\n",
       "    </tr>\n",
       "    <tr>\n",
       "      <th>mean</th>\n",
       "      <td>365.500000</td>\n",
       "      <td>2.498630</td>\n",
       "      <td>0.500000</td>\n",
       "      <td>6.526027</td>\n",
       "      <td>0.028767</td>\n",
       "      <td>2.995890</td>\n",
       "      <td>0.690411</td>\n",
       "      <td>1.394521</td>\n",
       "      <td>20.319259</td>\n",
       "      <td>23.726322</td>\n",
       "      <td>62.765175</td>\n",
       "      <td>12.763620</td>\n",
       "      <td>849.249315</td>\n",
       "      <td>3658.757534</td>\n",
       "      <td>4508.006849</td>\n",
       "    </tr>\n",
       "    <tr>\n",
       "      <th>std</th>\n",
       "      <td>210.877136</td>\n",
       "      <td>1.110184</td>\n",
       "      <td>0.500343</td>\n",
       "      <td>3.450215</td>\n",
       "      <td>0.167266</td>\n",
       "      <td>2.000339</td>\n",
       "      <td>0.462641</td>\n",
       "      <td>0.544807</td>\n",
       "      <td>7.506729</td>\n",
       "      <td>8.150308</td>\n",
       "      <td>14.237589</td>\n",
       "      <td>5.195841</td>\n",
       "      <td>686.479875</td>\n",
       "      <td>1559.758728</td>\n",
       "      <td>1936.011647</td>\n",
       "    </tr>\n",
       "    <tr>\n",
       "      <th>min</th>\n",
       "      <td>1.000000</td>\n",
       "      <td>1.000000</td>\n",
       "      <td>0.000000</td>\n",
       "      <td>1.000000</td>\n",
       "      <td>0.000000</td>\n",
       "      <td>0.000000</td>\n",
       "      <td>0.000000</td>\n",
       "      <td>1.000000</td>\n",
       "      <td>2.424346</td>\n",
       "      <td>3.953480</td>\n",
       "      <td>0.000000</td>\n",
       "      <td>1.500244</td>\n",
       "      <td>2.000000</td>\n",
       "      <td>20.000000</td>\n",
       "      <td>22.000000</td>\n",
       "    </tr>\n",
       "    <tr>\n",
       "      <th>25%</th>\n",
       "      <td>183.250000</td>\n",
       "      <td>2.000000</td>\n",
       "      <td>0.000000</td>\n",
       "      <td>4.000000</td>\n",
       "      <td>0.000000</td>\n",
       "      <td>1.000000</td>\n",
       "      <td>0.000000</td>\n",
       "      <td>1.000000</td>\n",
       "      <td>13.811885</td>\n",
       "      <td>16.889713</td>\n",
       "      <td>52.000000</td>\n",
       "      <td>9.041650</td>\n",
       "      <td>316.250000</td>\n",
       "      <td>2502.250000</td>\n",
       "      <td>3169.750000</td>\n",
       "    </tr>\n",
       "    <tr>\n",
       "      <th>50%</th>\n",
       "      <td>365.500000</td>\n",
       "      <td>3.000000</td>\n",
       "      <td>0.500000</td>\n",
       "      <td>7.000000</td>\n",
       "      <td>0.000000</td>\n",
       "      <td>3.000000</td>\n",
       "      <td>1.000000</td>\n",
       "      <td>1.000000</td>\n",
       "      <td>20.465826</td>\n",
       "      <td>24.368225</td>\n",
       "      <td>62.625000</td>\n",
       "      <td>12.125325</td>\n",
       "      <td>717.000000</td>\n",
       "      <td>3664.500000</td>\n",
       "      <td>4548.500000</td>\n",
       "    </tr>\n",
       "    <tr>\n",
       "      <th>75%</th>\n",
       "      <td>547.750000</td>\n",
       "      <td>3.000000</td>\n",
       "      <td>1.000000</td>\n",
       "      <td>10.000000</td>\n",
       "      <td>0.000000</td>\n",
       "      <td>5.000000</td>\n",
       "      <td>1.000000</td>\n",
       "      <td>2.000000</td>\n",
       "      <td>26.880615</td>\n",
       "      <td>30.445775</td>\n",
       "      <td>72.989575</td>\n",
       "      <td>15.625589</td>\n",
       "      <td>1096.500000</td>\n",
       "      <td>4783.250000</td>\n",
       "      <td>5966.000000</td>\n",
       "    </tr>\n",
       "    <tr>\n",
       "      <th>max</th>\n",
       "      <td>730.000000</td>\n",
       "      <td>4.000000</td>\n",
       "      <td>1.000000</td>\n",
       "      <td>12.000000</td>\n",
       "      <td>1.000000</td>\n",
       "      <td>6.000000</td>\n",
       "      <td>1.000000</td>\n",
       "      <td>3.000000</td>\n",
       "      <td>35.328347</td>\n",
       "      <td>42.044800</td>\n",
       "      <td>97.250000</td>\n",
       "      <td>34.000021</td>\n",
       "      <td>3410.000000</td>\n",
       "      <td>6946.000000</td>\n",
       "      <td>8714.000000</td>\n",
       "    </tr>\n",
       "  </tbody>\n",
       "</table>\n",
       "</div>"
      ],
      "text/plain": [
       "          instant      season          yr        mnth     holiday     weekday  \\\n",
       "count  730.000000  730.000000  730.000000  730.000000  730.000000  730.000000   \n",
       "mean   365.500000    2.498630    0.500000    6.526027    0.028767    2.995890   \n",
       "std    210.877136    1.110184    0.500343    3.450215    0.167266    2.000339   \n",
       "min      1.000000    1.000000    0.000000    1.000000    0.000000    0.000000   \n",
       "25%    183.250000    2.000000    0.000000    4.000000    0.000000    1.000000   \n",
       "50%    365.500000    3.000000    0.500000    7.000000    0.000000    3.000000   \n",
       "75%    547.750000    3.000000    1.000000   10.000000    0.000000    5.000000   \n",
       "max    730.000000    4.000000    1.000000   12.000000    1.000000    6.000000   \n",
       "\n",
       "       workingday  weathersit        temp       atemp         hum   windspeed  \\\n",
       "count  730.000000  730.000000  730.000000  730.000000  730.000000  730.000000   \n",
       "mean     0.690411    1.394521   20.319259   23.726322   62.765175   12.763620   \n",
       "std      0.462641    0.544807    7.506729    8.150308   14.237589    5.195841   \n",
       "min      0.000000    1.000000    2.424346    3.953480    0.000000    1.500244   \n",
       "25%      0.000000    1.000000   13.811885   16.889713   52.000000    9.041650   \n",
       "50%      1.000000    1.000000   20.465826   24.368225   62.625000   12.125325   \n",
       "75%      1.000000    2.000000   26.880615   30.445775   72.989575   15.625589   \n",
       "max      1.000000    3.000000   35.328347   42.044800   97.250000   34.000021   \n",
       "\n",
       "            casual   registered          cnt  \n",
       "count   730.000000   730.000000   730.000000  \n",
       "mean    849.249315  3658.757534  4508.006849  \n",
       "std     686.479875  1559.758728  1936.011647  \n",
       "min       2.000000    20.000000    22.000000  \n",
       "25%     316.250000  2502.250000  3169.750000  \n",
       "50%     717.000000  3664.500000  4548.500000  \n",
       "75%    1096.500000  4783.250000  5966.000000  \n",
       "max    3410.000000  6946.000000  8714.000000  "
      ]
     },
     "execution_count": 6,
     "metadata": {},
     "output_type": "execute_result"
    }
   ],
   "source": [
    "bikes_sharing.describe()"
   ]
  },
  {
   "cell_type": "code",
   "execution_count": 7,
   "metadata": {},
   "outputs": [
    {
     "name": "stdout",
     "output_type": "stream",
     "text": [
      "<class 'pandas.core.frame.DataFrame'>\n",
      "RangeIndex: 730 entries, 0 to 729\n",
      "Data columns (total 16 columns):\n",
      " #   Column      Non-Null Count  Dtype  \n",
      "---  ------      --------------  -----  \n",
      " 0   instant     730 non-null    int64  \n",
      " 1   dteday      730 non-null    object \n",
      " 2   season      730 non-null    int64  \n",
      " 3   yr          730 non-null    int64  \n",
      " 4   mnth        730 non-null    int64  \n",
      " 5   holiday     730 non-null    int64  \n",
      " 6   weekday     730 non-null    int64  \n",
      " 7   workingday  730 non-null    int64  \n",
      " 8   weathersit  730 non-null    int64  \n",
      " 9   temp        730 non-null    float64\n",
      " 10  atemp       730 non-null    float64\n",
      " 11  hum         730 non-null    float64\n",
      " 12  windspeed   730 non-null    float64\n",
      " 13  casual      730 non-null    int64  \n",
      " 14  registered  730 non-null    int64  \n",
      " 15  cnt         730 non-null    int64  \n",
      "dtypes: float64(4), int64(11), object(1)\n",
      "memory usage: 91.4+ KB\n"
     ]
    }
   ],
   "source": [
    "#Finding out the datatype of the columns in the bikes dataset:\n",
    "bikes_sharing.info()"
   ]
  },
  {
   "cell_type": "markdown",
   "metadata": {},
   "source": [
    "###### In our bikes dataset , we have the following types of columns:\n",
    "          Categorical columns: season , month , weathersit , weekday\n",
    "          Continuous/Numerical columns : windspeed , hum , temp , atemp , count\n",
    "          Binary/Dichotomous columns: yr , holiday , workingday\n"
   ]
  },
  {
   "cell_type": "markdown",
   "metadata": {},
   "source": [
    "###### In our bikes dataset,we have some unnecessary columns like: instant , dteday , casual , registered , so we are going to drop these columns."
   ]
  },
  {
   "cell_type": "code",
   "execution_count": 8,
   "metadata": {},
   "outputs": [],
   "source": [
    "# Dropping the columns : instant,dteday,casual,registered\n",
    "\n",
    "cols=[\"instant\",\"dteday\",\"casual\",\"registered\"]\n",
    "\n",
    "bikes_sharing=bikes_sharing.drop(columns=cols,axis=1)"
   ]
  },
  {
   "cell_type": "markdown",
   "metadata": {},
   "source": [
    "## Renaming columns :"
   ]
  },
  {
   "cell_type": "code",
   "execution_count": 9,
   "metadata": {},
   "outputs": [],
   "source": [
    "# Renaming some columns for more clearity \n",
    "\n",
    "bikes_sharing.rename(columns={'hum':'humidity','cnt':'count','mnth':'month','yr':'year'},inplace=True)"
   ]
  },
  {
   "cell_type": "markdown",
   "metadata": {},
   "source": [
    "### Mapping the Categorical columns to their actual category names :"
   ]
  },
  {
   "cell_type": "markdown",
   "metadata": {},
   "source": [
    "# 1 . Season column mapping as:\n",
    "              1: spring\n",
    "              2: summer\n",
    "              3: fall\n",
    "              4: winter"
   ]
  },
  {
   "cell_type": "code",
   "execution_count": 10,
   "metadata": {},
   "outputs": [],
   "source": [
    "# Mapping the categorical column : season into its categories\n",
    "\n",
    "season_cat={1:\"spring\",2:\"summer\",3:\"fall\",4:'winter'}\n",
    "\n",
    "bikes_sharing.season=[season_cat[item] for item in bikes_sharing.season]"
   ]
  },
  {
   "cell_type": "markdown",
   "metadata": {},
   "source": [
    "## 2 . Weathersit column mapping as:\n",
    "      1: clear_fEW Clouds\n",
    "      2: Mist_cloudy\n",
    "      3: light rain_Light snow_Thunderstorm\n",
    "      4: heavy Rain_Ice pallets_Thunderstorm_Mist"
   ]
  },
  {
   "cell_type": "code",
   "execution_count": 11,
   "metadata": {},
   "outputs": [],
   "source": [
    "# Mapping the categorical column : weathersit into its categories\n",
    "\n",
    "weather_cat={1:\"Clear_Few Clouds\",2:\"Mist_cloudy\",3:\"Light rain_Light snow_Thunderstorm\",4:'Heavy Rain_Ice Pallets_Thunderstorm_Mist'}\n",
    "\n",
    "bikes_sharing.weathersit=[weather_cat[item] for item in bikes_sharing.weathersit]"
   ]
  },
  {
   "cell_type": "markdown",
   "metadata": {},
   "source": [
    "### 3 . Month column mapping as:\n",
    "      1: Jan , 2: Feb , 3: Mar , 4: Apr , 5: May , 6: Jun , 7: Jul , 8: Aug , 9: Sep , 10: Oct ,           11: Nov , 12: Dec"
   ]
  },
  {
   "cell_type": "code",
   "execution_count": 12,
   "metadata": {},
   "outputs": [],
   "source": [
    "# Mapping the categorical column : month into its categories\n",
    "\n",
    "month_cat={1: 'Jan' , 2: 'Feb' , 3: 'Mar' , 4: 'Apr' , 5: 'May' , 6: 'Jun' , 7: 'Jul' , 8: 'Aug' , 9: 'Sep' , 10: 'Oct' , 11: 'Nov' , 12: 'Dec'}\n",
    "\n",
    "bikes_sharing.month=[month_cat[item] for item in bikes_sharing.month]"
   ]
  },
  {
   "cell_type": "markdown",
   "metadata": {},
   "source": [
    "#### 4.Weekday column mapping as:\n",
    "        0: Sunday\n",
    "        1: Monday\n",
    "        2: Tuesday\n",
    "        3: Wednesday\n",
    "        4: Thursday\n",
    "        5: Friday\n",
    "        6: Saturday"
   ]
  },
  {
   "cell_type": "code",
   "execution_count": 13,
   "metadata": {},
   "outputs": [],
   "source": [
    "# Mapping the categorical column : weekday into its categories\n",
    "\n",
    "wkday_cat={0: 'Sunday',1: 'Monday',2: 'Tuesday',3: 'Wednesday',4: 'Thursday',5: 'Friday',6: 'Saturday'}\n",
    "\n",
    "bikes_sharing.weekday=[wkday_cat[item] for item in bikes_sharing.weekday]"
   ]
  },
  {
   "cell_type": "markdown",
   "metadata": {},
   "source": [
    "# 5.Year column mapping as:\n",
    "        0: 2018\n",
    "        1: 2019"
   ]
  },
  {
   "cell_type": "code",
   "execution_count": 14,
   "metadata": {},
   "outputs": [],
   "source": [
    "# Mapping the categorical column : Year into its categories\n",
    "\n",
    "yr_cat={0: '2018',1: '2019'}\n",
    "\n",
    "bikes_sharing.year=[yr_cat[item] for item in bikes_sharing.year]"
   ]
  },
  {
   "cell_type": "markdown",
   "metadata": {},
   "source": [
    "### Exploratory Data Analysis :"
   ]
  },
  {
   "cell_type": "markdown",
   "metadata": {},
   "source": [
    "### Analysis of various variables w.r.t 'count' ie., target variable through Visualization:"
   ]
  },
  {
   "cell_type": "markdown",
   "metadata": {},
   "source": [
    "### 1. Season :"
   ]
  },
  {
   "cell_type": "code",
   "execution_count": 15,
   "metadata": {},
   "outputs": [
    {
     "data": {
      "text/plain": [
       "<matplotlib.axes._subplots.AxesSubplot at 0x2971de6ddc0>"
      ]
     },
     "execution_count": 15,
     "metadata": {},
     "output_type": "execute_result"
    },
    {
     "data": {
      "image/png": "[encoded data removed]",
      "text/plain": [
       "<Figure size 432x288 with 1 Axes>"
      ]
     },
     "metadata": {
      "needs_background": "light"
     },
     "output_type": "display_data"
    }
   ],
   "source": [
    "# Analysing the demand in various seasons\n",
    "sns.barplot(x='season',y='count',data=bikes_sharing)"
   ]
  },
  {
   "cell_type": "markdown",
   "metadata": {},
   "source": [
    "### Observation: Bikes rented are more during the Fall season."
   ]
  },
  {
   "cell_type": "markdown",
   "metadata": {},
   "source": [
    "### 2. Year :\n",
    "      0: 2018\n",
    "      1: 2019"
   ]
  },
  {
   "cell_type": "code",
   "execution_count": 16,
   "metadata": {},
   "outputs": [
    {
     "data": {
      "text/plain": [
       "<matplotlib.axes._subplots.AxesSubplot at 0x2971bc16c10>"
      ]
     },
     "execution_count": 16,
     "metadata": {},
     "output_type": "execute_result"
    },
    {
     "data": {
      "image/png": "[encoded data removed]",
      "text/plain": [
       "<Figure size 432x288 with 1 Axes>"
      ]
     },
     "metadata": {},
     "output_type": "display_data"
    }
   ],
   "source": [
    "# Analysing the demand in year 2018 and 2019\n",
    "sns.set_style('whitegrid')\n",
    "plt.figure(figsize=(6,4))\n",
    "sns.barplot(x='year',y='count',data=bikes_sharing)"
   ]
  },
  {
   "cell_type": "markdown",
   "metadata": {},
   "source": [
    "### Observation: Bikes sharing rented are more in the year 2019 as compared to 2018."
   ]
  },
  {
   "cell_type": "markdown",
   "metadata": {},
   "source": [
    "### 3. Month :"
   ]
  },
  {
   "cell_type": "code",
   "execution_count": 17,
   "metadata": {},
   "outputs": [
    {
     "data": {
      "text/plain": [
       "<matplotlib.axes._subplots.AxesSubplot at 0x2971de6d370>"
      ]
     },
     "execution_count": 17,
     "metadata": {},
     "output_type": "execute_result"
    },
    {
     "data": {
      "image/png": "[encoded data removed]",
      "text/plain": [
       "<Figure size 864x432 with 1 Axes>"
      ]
     },
     "metadata": {},
     "output_type": "display_data"
    }
   ],
   "source": [
    "# Analysing the demand in various months\n",
    "sns.set_style('whitegrid')\n",
    "plt.figure(figsize=(12,6))\n",
    "sns.barplot(x='month',y='count',data=bikes_sharing,hue='year',palette='ocean')"
   ]
  },
  {
   "cell_type": "markdown",
   "metadata": {},
   "source": [
    "### Observation: Bikes sharing rented are more in the month of Sep 2019."
   ]
  },
  {
   "cell_type": "markdown",
   "metadata": {},
   "source": [
    "### 4. Weather :"
   ]
  },
  {
   "cell_type": "code",
   "execution_count": 18,
   "metadata": {},
   "outputs": [
    {
     "data": {
      "text/plain": [
       "<matplotlib.axes._subplots.AxesSubplot at 0x2971dd01790>"
      ]
     },
     "execution_count": 18,
     "metadata": {},
     "output_type": "execute_result"
    },
    {
     "data": {
      "image/png": "[encoded data removed]",
      "text/plain": [
       "<Figure size 648x288 with 1 Axes>"
      ]
     },
     "metadata": {},
     "output_type": "display_data"
    }
   ],
   "source": [
    "# Analysing the demand in various weathers\n",
    "sns.set_style('whitegrid')\n",
    "plt.figure(figsize=(9,4))\n",
    "sns.barplot(x='weathersit',y='count',data=bikes_sharing)"
   ]
  },
  {
   "cell_type": "markdown",
   "metadata": {},
   "source": [
    "### Observation: Bikes sharing rented are more in the Clear weather .\n"
   ]
  },
  {
   "cell_type": "markdown",
   "metadata": {},
   "source": [
    "### 5. Weekday :"
   ]
  },
  {
   "cell_type": "code",
   "execution_count": 19,
   "metadata": {},
   "outputs": [
    {
     "data": {
      "text/plain": [
       "<matplotlib.axes._subplots.AxesSubplot at 0x2971e21f790>"
      ]
     },
     "execution_count": 19,
     "metadata": {},
     "output_type": "execute_result"
    },
    {
     "data": {
      "image/png": "[encoded data removed]",
      "text/plain": [
       "<Figure size 648x288 with 1 Axes>"
      ]
     },
     "metadata": {},
     "output_type": "display_data"
    }
   ],
   "source": [
    "# Analysing the demand in various weekdays\n",
    "sns.set_style('whitegrid')\n",
    "plt.figure(figsize=(9,4))\n",
    "sns.barplot(x='weekday',y='count',data=bikes_sharing)"
   ]
  },
  {
   "cell_type": "markdown",
   "metadata": {},
   "source": [
    "### Observation: Bikes sharing rented are more on Saturday and Friday ."
   ]
  },
  {
   "cell_type": "markdown",
   "metadata": {},
   "source": [
    "### 6. Working day :\n",
    "\n",
    "         0 : holiday or weekend\n",
    "         1 : neither holiday nor weekend ie., working day"
   ]
  },
  {
   "cell_type": "code",
   "execution_count": 20,
   "metadata": {},
   "outputs": [
    {
     "data": {
      "text/plain": [
       "<matplotlib.axes._subplots.AxesSubplot at 0x2971e127940>"
      ]
     },
     "execution_count": 20,
     "metadata": {},
     "output_type": "execute_result"
    },
    {
     "data": {
      "image/png": "[encoded data removed]",
      "text/plain": [
       "<Figure size 432x288 with 1 Axes>"
      ]
     },
     "metadata": {},
     "output_type": "display_data"
    }
   ],
   "source": [
    "# Analysing the demand based on workingday or not a workingday\n",
    "sns.set_style('whitegrid')\n",
    "# plt.figure(figsize=(9,4))\n",
    "sns.barplot(x='workingday',y='count',data=bikes_sharing)"
   ]
  },
  {
   "cell_type": "markdown",
   "metadata": {},
   "source": [
    "### Observation: Bikes sharing rented are more on working days"
   ]
  },
  {
   "cell_type": "markdown",
   "metadata": {},
   "source": [
    "### 7. Visualizing the continuous variables 'temp','humidity','windspeed' w.r.t 'count ' variable through a pairplot."
   ]
  },
  {
   "cell_type": "code",
   "execution_count": 21,
   "metadata": {},
   "outputs": [
    {
     "data": {
      "image/png": "[encoded data removed]",
      "text/plain": [
       "<Figure size 720x720 with 20 Axes>"
      ]
     },
     "metadata": {},
     "output_type": "display_data"
    }
   ],
   "source": [
    "sns.pairplot(bikes_sharing, vars=['temp','humidity','windspeed',\"count\"])\n",
    "plt.show()"
   ]
  },
  {
   "cell_type": "markdown",
   "metadata": {},
   "source": [
    "### Checking the Correlations among variables:"
   ]
  },
  {
   "cell_type": "code",
   "execution_count": 23,
   "metadata": {},
   "outputs": [
    {
     "data": {
      "text/plain": [
       "<matplotlib.axes._subplots.AxesSubplot at 0x2971ef83a00>"
      ]
     },
     "execution_count": 23,
     "metadata": {},
     "output_type": "execute_result"
    },
    {
     "data": {
      "image/png": "[encoded data removed]",
      "text/plain": [
       "<Figure size 792x540 with 2 Axes>"
      ]
     },
     "metadata": {},
     "output_type": "display_data"
    }
   ],
   "source": [
    "plt.figure(figsize=(11,7.5))\n",
    "sns.heatmap(bikes_sharing.corr(),annot=True,cmap='YlGnBu')"
   ]
  },
  {
   "cell_type": "markdown",
   "metadata": {},
   "source": [
    "### Observation : It is seen that the variables 'temp' and 'atemp' have a high correlation value of 0.99 , ie., they are highly correlated to each other , therefore we need to drop one of them ."
   ]
  },
  {
   "cell_type": "code",
   "execution_count": 29,
   "metadata": {},
   "outputs": [],
   "source": [
    "# Dropping the variable 'atemp' \n",
    "bikes_sharing=bikes_sharing.drop(\"atemp\",axis=1)"
   ]
  },
  {
   "cell_type": "markdown",
   "metadata": {},
   "source": [
    "# DATA PREPARATION :"
   ]
  },
  {
   "cell_type": "markdown",
   "metadata": {},
   "source": [
    "### Creating Dummy Variables for the Categorical variables :"
   ]
  },
  {
   "cell_type": "markdown",
   "metadata": {},
   "source": [
    "#### month , season , weathersit , weekday"
   ]
  },
  {
   "cell_type": "code",
   "execution_count": 24,
   "metadata": {},
   "outputs": [],
   "source": [
    "# Creating the dummy variables for the variables month,season,weathersit,weekday and storing them \n",
    "# in new variable 'months',seasons','weather' and 'weekdays' respectively and \n",
    "# dropping the first column from these variables using 'drop_first = True'\n",
    "\n",
    "months= pd.get_dummies(bikes_sharing['month'],drop_first=True,prefix='month')\n",
    "\n",
    "seasons = pd.get_dummies(bikes_sharing['season'],drop_first=True,prefix='season')\n",
    "\n",
    "weather= pd.get_dummies(bikes_sharing['weathersit'],drop_first=True,prefix='weather')\n",
    "\n",
    "weekdays= pd.get_dummies(bikes_sharing['weekday'],drop_first=True,prefix='day')\n",
    "\n",
    "years= pd.get_dummies(bikes_sharing['year'],drop_first=True,prefix='year')"
   ]
  },
  {
   "cell_type": "code",
   "execution_count": 25,
   "metadata": {},
   "outputs": [
    {
     "data": {
      "text/html": [
       "<div>\n",
       "<style scoped>\n",
       "    .dataframe tbody tr th:only-of-type {\n",
       "        vertical-align: middle;\n",
       "    }\n",
       "\n",
       "    .dataframe tbody tr th {\n",
       "        vertical-align: top;\n",
       "    }\n",
       "\n",
       "    .dataframe thead th {\n",
       "        text-align: right;\n",
       "    }\n",
       "</style>\n",
       "<table border=\"1\" class=\"dataframe\">\n",
       "  <thead>\n",
       "    <tr style=\"text-align: right;\">\n",
       "      <th></th>\n",
       "      <th>season</th>\n",
       "      <th>year</th>\n",
       "      <th>month</th>\n",
       "      <th>holiday</th>\n",
       "      <th>weekday</th>\n",
       "      <th>workingday</th>\n",
       "      <th>weathersit</th>\n",
       "      <th>temp</th>\n",
       "      <th>atemp</th>\n",
       "      <th>humidity</th>\n",
       "      <th>...</th>\n",
       "      <th>season_winter</th>\n",
       "      <th>weather_Light rain_Light snow_Thunderstorm</th>\n",
       "      <th>weather_Mist_cloudy</th>\n",
       "      <th>day_Monday</th>\n",
       "      <th>day_Saturday</th>\n",
       "      <th>day_Sunday</th>\n",
       "      <th>day_Thursday</th>\n",
       "      <th>day_Tuesday</th>\n",
       "      <th>day_Wednesday</th>\n",
       "      <th>year_2019</th>\n",
       "    </tr>\n",
       "  </thead>\n",
       "  <tbody>\n",
       "    <tr>\n",
       "      <th>0</th>\n",
       "      <td>spring</td>\n",
       "      <td>2018</td>\n",
       "      <td>Jan</td>\n",
       "      <td>0</td>\n",
       "      <td>Monday</td>\n",
       "      <td>1</td>\n",
       "      <td>Mist_cloudy</td>\n",
       "      <td>14.110847</td>\n",
       "      <td>18.18125</td>\n",
       "      <td>80.5833</td>\n",
       "      <td>...</td>\n",
       "      <td>0</td>\n",
       "      <td>0</td>\n",
       "      <td>1</td>\n",
       "      <td>1</td>\n",
       "      <td>0</td>\n",
       "      <td>0</td>\n",
       "      <td>0</td>\n",
       "      <td>0</td>\n",
       "      <td>0</td>\n",
       "      <td>0</td>\n",
       "    </tr>\n",
       "    <tr>\n",
       "      <th>1</th>\n",
       "      <td>spring</td>\n",
       "      <td>2018</td>\n",
       "      <td>Jan</td>\n",
       "      <td>0</td>\n",
       "      <td>Tuesday</td>\n",
       "      <td>1</td>\n",
       "      <td>Mist_cloudy</td>\n",
       "      <td>14.902598</td>\n",
       "      <td>17.68695</td>\n",
       "      <td>69.6087</td>\n",
       "      <td>...</td>\n",
       "      <td>0</td>\n",
       "      <td>0</td>\n",
       "      <td>1</td>\n",
       "      <td>0</td>\n",
       "      <td>0</td>\n",
       "      <td>0</td>\n",
       "      <td>0</td>\n",
       "      <td>1</td>\n",
       "      <td>0</td>\n",
       "      <td>0</td>\n",
       "    </tr>\n",
       "    <tr>\n",
       "      <th>2</th>\n",
       "      <td>spring</td>\n",
       "      <td>2018</td>\n",
       "      <td>Jan</td>\n",
       "      <td>0</td>\n",
       "      <td>Wednesday</td>\n",
       "      <td>1</td>\n",
       "      <td>Clear_Few Clouds</td>\n",
       "      <td>8.050924</td>\n",
       "      <td>9.47025</td>\n",
       "      <td>43.7273</td>\n",
       "      <td>...</td>\n",
       "      <td>0</td>\n",
       "      <td>0</td>\n",
       "      <td>0</td>\n",
       "      <td>0</td>\n",
       "      <td>0</td>\n",
       "      <td>0</td>\n",
       "      <td>0</td>\n",
       "      <td>0</td>\n",
       "      <td>1</td>\n",
       "      <td>0</td>\n",
       "    </tr>\n",
       "    <tr>\n",
       "      <th>3</th>\n",
       "      <td>spring</td>\n",
       "      <td>2018</td>\n",
       "      <td>Jan</td>\n",
       "      <td>0</td>\n",
       "      <td>Thursday</td>\n",
       "      <td>1</td>\n",
       "      <td>Clear_Few Clouds</td>\n",
       "      <td>8.200000</td>\n",
       "      <td>10.60610</td>\n",
       "      <td>59.0435</td>\n",
       "      <td>...</td>\n",
       "      <td>0</td>\n",
       "      <td>0</td>\n",
       "      <td>0</td>\n",
       "      <td>0</td>\n",
       "      <td>0</td>\n",
       "      <td>0</td>\n",
       "      <td>1</td>\n",
       "      <td>0</td>\n",
       "      <td>0</td>\n",
       "      <td>0</td>\n",
       "    </tr>\n",
       "    <tr>\n",
       "      <th>4</th>\n",
       "      <td>spring</td>\n",
       "      <td>2018</td>\n",
       "      <td>Jan</td>\n",
       "      <td>0</td>\n",
       "      <td>Friday</td>\n",
       "      <td>1</td>\n",
       "      <td>Clear_Few Clouds</td>\n",
       "      <td>9.305237</td>\n",
       "      <td>11.46350</td>\n",
       "      <td>43.6957</td>\n",
       "      <td>...</td>\n",
       "      <td>0</td>\n",
       "      <td>0</td>\n",
       "      <td>0</td>\n",
       "      <td>0</td>\n",
       "      <td>0</td>\n",
       "      <td>0</td>\n",
       "      <td>0</td>\n",
       "      <td>0</td>\n",
       "      <td>0</td>\n",
       "      <td>0</td>\n",
       "    </tr>\n",
       "  </tbody>\n",
       "</table>\n",
       "<p>5 rows × 35 columns</p>\n",
       "</div>"
      ],
      "text/plain": [
       "   season  year month  holiday    weekday  workingday        weathersit  \\\n",
       "0  spring  2018   Jan        0     Monday           1       Mist_cloudy   \n",
       "1  spring  2018   Jan        0    Tuesday           1       Mist_cloudy   \n",
       "2  spring  2018   Jan        0  Wednesday           1  Clear_Few Clouds   \n",
       "3  spring  2018   Jan        0   Thursday           1  Clear_Few Clouds   \n",
       "4  spring  2018   Jan        0     Friday           1  Clear_Few Clouds   \n",
       "\n",
       "        temp     atemp  humidity  ...  season_winter  \\\n",
       "0  14.110847  18.18125   80.5833  ...              0   \n",
       "1  14.902598  17.68695   69.6087  ...              0   \n",
       "2   8.050924   9.47025   43.7273  ...              0   \n",
       "3   8.200000  10.60610   59.0435  ...              0   \n",
       "4   9.305237  11.46350   43.6957  ...              0   \n",
       "\n",
       "   weather_Light rain_Light snow_Thunderstorm  weather_Mist_cloudy  \\\n",
       "0                                           0                    1   \n",
       "1                                           0                    1   \n",
       "2                                           0                    0   \n",
       "3                                           0                    0   \n",
       "4                                           0                    0   \n",
       "\n",
       "   day_Monday  day_Saturday  day_Sunday  day_Thursday  day_Tuesday  \\\n",
       "0           1             0           0             0            0   \n",
       "1           0             0           0             0            1   \n",
       "2           0             0           0             0            0   \n",
       "3           0             0           0             1            0   \n",
       "4           0             0           0             0            0   \n",
       "\n",
       "   day_Wednesday  year_2019  \n",
       "0              0          0  \n",
       "1              0          0  \n",
       "2              1          0  \n",
       "3              0          0  \n",
       "4              0          0  \n",
       "\n",
       "[5 rows x 35 columns]"
      ]
     },
     "execution_count": 25,
     "metadata": {},
     "output_type": "execute_result"
    }
   ],
   "source": [
    "# Add the above created dummy variables to the original bikes dataframe\n",
    "bikes_sharing = pd.concat([bikes_sharing,months,seasons,weather,weekdays,years], axis = 1)\n",
    "\n",
    "# Looking at the top rows of our dataframe.\n",
    "bikes_sharing.head()"
   ]
  },
  {
   "cell_type": "code",
   "execution_count": 26,
   "metadata": {},
   "outputs": [],
   "source": [
    "# As we have created dummy variables for the categorical variables , now we will drop those categorical variables .\n",
    "\n",
    "bikes_sharing.drop(['season','weathersit','weekday','month','year'],axis=1,inplace=True)"
   ]
  },
  {
   "cell_type": "code",
   "execution_count": 27,
   "metadata": {},
   "outputs": [
    {
     "data": {
      "text/plain": [
       "(730, 30)"
      ]
     },
     "execution_count": 27,
     "metadata": {},
     "output_type": "execute_result"
    }
   ],
   "source": [
    "# Looking at the shape of dataframe after dropping the above variables\n",
    "bikes_sharing.shape"
   ]
  },
  {
   "cell_type": "markdown",
   "metadata": {},
   "source": [
    "### Splitting the Data into Training and Testing Sets"
   ]
  },
  {
   "cell_type": "code",
   "execution_count": 28,
   "metadata": {},
   "outputs": [],
   "source": [
    "from sklearn.model_selection import train_test_split\n",
    "\n",
    "bikes_sharing_train, bikes_sharing_test = train_test_split(bikes_sharing, train_size = 0.7, test_size = 0.3, random_state = 100)"
   ]
  },
  {
   "cell_type": "code",
   "execution_count": 29,
   "metadata": {},
   "outputs": [
    {
     "data": {
      "text/plain": [
       "(510, 30)"
      ]
     },
     "execution_count": 29,
     "metadata": {},
     "output_type": "execute_result"
    }
   ],
   "source": [
    "#Looking at the shape of the train dataset.\n",
    "bikes_sharing_train.shape"
   ]
  },
  {
   "cell_type": "code",
   "execution_count": 30,
   "metadata": {},
   "outputs": [
    {
     "data": {
      "text/plain": [
       "(219, 30)"
      ]
     },
     "execution_count": 30,
     "metadata": {},
     "output_type": "execute_result"
    }
   ],
   "source": [
    "#Looking at the shape of the test dataset.\n",
    "bikes_sharing_test.shape"
   ]
  },
  {
   "cell_type": "markdown",
   "metadata": {},
   "source": [
    "### Scaling the Features\n",
    "For Scaling the features in our bikes sharing dataset , we will use MinMax scaling."
   ]
  },
  {
   "cell_type": "code",
   "execution_count": 31,
   "metadata": {},
   "outputs": [],
   "source": [
    "from sklearn.preprocessing import MinMaxScaler\n",
    "scaler = MinMaxScaler()"
   ]
  },
  {
   "cell_type": "code",
   "execution_count": 32,
   "metadata": {},
   "outputs": [
    {
     "data": {
      "text/html": [
       "<div>\n",
       "<style scoped>\n",
       "    .dataframe tbody tr th:only-of-type {\n",
       "        vertical-align: middle;\n",
       "    }\n",
       "\n",
       "    .dataframe tbody tr th {\n",
       "        vertical-align: top;\n",
       "    }\n",
       "\n",
       "    .dataframe thead th {\n",
       "        text-align: right;\n",
       "    }\n",
       "</style>\n",
       "<table border=\"1\" class=\"dataframe\">\n",
       "  <thead>\n",
       "    <tr style=\"text-align: right;\">\n",
       "      <th></th>\n",
       "      <th>holiday</th>\n",
       "      <th>workingday</th>\n",
       "      <th>temp</th>\n",
       "      <th>atemp</th>\n",
       "      <th>humidity</th>\n",
       "      <th>windspeed</th>\n",
       "      <th>count</th>\n",
       "      <th>month_Aug</th>\n",
       "      <th>month_Dec</th>\n",
       "      <th>month_Feb</th>\n",
       "      <th>...</th>\n",
       "      <th>season_winter</th>\n",
       "      <th>weather_Light rain_Light snow_Thunderstorm</th>\n",
       "      <th>weather_Mist_cloudy</th>\n",
       "      <th>day_Monday</th>\n",
       "      <th>day_Saturday</th>\n",
       "      <th>day_Sunday</th>\n",
       "      <th>day_Thursday</th>\n",
       "      <th>day_Tuesday</th>\n",
       "      <th>day_Wednesday</th>\n",
       "      <th>year_2019</th>\n",
       "    </tr>\n",
       "  </thead>\n",
       "  <tbody>\n",
       "    <tr>\n",
       "      <th>653</th>\n",
       "      <td>0</td>\n",
       "      <td>1</td>\n",
       "      <td>0.509887</td>\n",
       "      <td>23.0423</td>\n",
       "      <td>0.575354</td>\n",
       "      <td>0.300794</td>\n",
       "      <td>0.864243</td>\n",
       "      <td>0</td>\n",
       "      <td>0</td>\n",
       "      <td>0</td>\n",
       "      <td>...</td>\n",
       "      <td>1</td>\n",
       "      <td>0</td>\n",
       "      <td>0</td>\n",
       "      <td>0</td>\n",
       "      <td>0</td>\n",
       "      <td>0</td>\n",
       "      <td>0</td>\n",
       "      <td>0</td>\n",
       "      <td>1</td>\n",
       "      <td>1</td>\n",
       "    </tr>\n",
       "    <tr>\n",
       "      <th>576</th>\n",
       "      <td>0</td>\n",
       "      <td>1</td>\n",
       "      <td>0.815169</td>\n",
       "      <td>33.1448</td>\n",
       "      <td>0.725633</td>\n",
       "      <td>0.264686</td>\n",
       "      <td>0.827658</td>\n",
       "      <td>0</td>\n",
       "      <td>0</td>\n",
       "      <td>0</td>\n",
       "      <td>...</td>\n",
       "      <td>0</td>\n",
       "      <td>0</td>\n",
       "      <td>0</td>\n",
       "      <td>0</td>\n",
       "      <td>0</td>\n",
       "      <td>0</td>\n",
       "      <td>0</td>\n",
       "      <td>0</td>\n",
       "      <td>1</td>\n",
       "      <td>1</td>\n",
       "    </tr>\n",
       "    <tr>\n",
       "      <th>426</th>\n",
       "      <td>0</td>\n",
       "      <td>0</td>\n",
       "      <td>0.442393</td>\n",
       "      <td>20.6746</td>\n",
       "      <td>0.640189</td>\n",
       "      <td>0.255342</td>\n",
       "      <td>0.465255</td>\n",
       "      <td>0</td>\n",
       "      <td>0</td>\n",
       "      <td>0</td>\n",
       "      <td>...</td>\n",
       "      <td>0</td>\n",
       "      <td>0</td>\n",
       "      <td>1</td>\n",
       "      <td>0</td>\n",
       "      <td>0</td>\n",
       "      <td>1</td>\n",
       "      <td>0</td>\n",
       "      <td>0</td>\n",
       "      <td>0</td>\n",
       "      <td>1</td>\n",
       "    </tr>\n",
       "    <tr>\n",
       "      <th>728</th>\n",
       "      <td>0</td>\n",
       "      <td>1</td>\n",
       "      <td>0.245101</td>\n",
       "      <td>11.5850</td>\n",
       "      <td>0.498067</td>\n",
       "      <td>0.663106</td>\n",
       "      <td>0.204096</td>\n",
       "      <td>0</td>\n",
       "      <td>1</td>\n",
       "      <td>0</td>\n",
       "      <td>...</td>\n",
       "      <td>0</td>\n",
       "      <td>0</td>\n",
       "      <td>0</td>\n",
       "      <td>1</td>\n",
       "      <td>0</td>\n",
       "      <td>0</td>\n",
       "      <td>0</td>\n",
       "      <td>0</td>\n",
       "      <td>0</td>\n",
       "      <td>1</td>\n",
       "    </tr>\n",
       "    <tr>\n",
       "      <th>482</th>\n",
       "      <td>0</td>\n",
       "      <td>0</td>\n",
       "      <td>0.395666</td>\n",
       "      <td>18.8752</td>\n",
       "      <td>0.504508</td>\n",
       "      <td>0.188475</td>\n",
       "      <td>0.482973</td>\n",
       "      <td>0</td>\n",
       "      <td>0</td>\n",
       "      <td>0</td>\n",
       "      <td>...</td>\n",
       "      <td>0</td>\n",
       "      <td>0</td>\n",
       "      <td>1</td>\n",
       "      <td>0</td>\n",
       "      <td>0</td>\n",
       "      <td>1</td>\n",
       "      <td>0</td>\n",
       "      <td>0</td>\n",
       "      <td>0</td>\n",
       "      <td>1</td>\n",
       "    </tr>\n",
       "  </tbody>\n",
       "</table>\n",
       "<p>5 rows × 30 columns</p>\n",
       "</div>"
      ],
      "text/plain": [
       "     holiday  workingday      temp    atemp  humidity  windspeed     count  \\\n",
       "653        0           1  0.509887  23.0423  0.575354   0.300794  0.864243   \n",
       "576        0           1  0.815169  33.1448  0.725633   0.264686  0.827658   \n",
       "426        0           0  0.442393  20.6746  0.640189   0.255342  0.465255   \n",
       "728        0           1  0.245101  11.5850  0.498067   0.663106  0.204096   \n",
       "482        0           0  0.395666  18.8752  0.504508   0.188475  0.482973   \n",
       "\n",
       "     month_Aug  month_Dec  month_Feb  ...  season_winter  \\\n",
       "653          0          0          0  ...              1   \n",
       "576          0          0          0  ...              0   \n",
       "426          0          0          0  ...              0   \n",
       "728          0          1          0  ...              0   \n",
       "482          0          0          0  ...              0   \n",
       "\n",
       "     weather_Light rain_Light snow_Thunderstorm  weather_Mist_cloudy  \\\n",
       "653                                           0                    0   \n",
       "576                                           0                    0   \n",
       "426                                           0                    1   \n",
       "728                                           0                    0   \n",
       "482                                           0                    1   \n",
       "\n",
       "     day_Monday  day_Saturday  day_Sunday  day_Thursday  day_Tuesday  \\\n",
       "653           0             0           0             0            0   \n",
       "576           0             0           0             0            0   \n",
       "426           0             0           1             0            0   \n",
       "728           1             0           0             0            0   \n",
       "482           0             0           1             0            0   \n",
       "\n",
       "     day_Wednesday  year_2019  \n",
       "653              1          1  \n",
       "576              1          1  \n",
       "426              0          1  \n",
       "728              0          1  \n",
       "482              0          1  \n",
       "\n",
       "[5 rows x 30 columns]"
      ]
     },
     "execution_count": 32,
     "metadata": {},
     "output_type": "execute_result"
    }
   ],
   "source": [
    "# Applying Scaling on the continuous columns : 'windspeed' , 'temp' , 'humidity' , 'count'\n",
    "vars = ['windspeed' , 'temp' , 'humidity','count']\n",
    "\n",
    "bikes_sharing_train[vars] = scaler.fit_transform(bikes_sharing_train[vars])\n",
    "\n",
    "bikes_sharing_train.head()"
   ]
  },
  {
   "cell_type": "markdown",
   "metadata": {},
   "source": [
    "### Dividing into X and Y sets for the model building :"
   ]
  },
  {
   "cell_type": "code",
   "execution_count": 33,
   "metadata": {},
   "outputs": [],
   "source": [
    "y_train = bikes_sharing_train.pop('count')\n",
    "X_train = bikes_sharing_train"
   ]
  },
  {
   "cell_type": "markdown",
   "metadata": {},
   "source": [
    "### Data Modelling and Evaluation"
   ]
  },
  {
   "cell_type": "markdown",
   "metadata": {},
   "source": [
    "We will be using the Mixed Approach for model building ie., firstly we will select 15 variables by using the Automated Approach of RFE and then using Manual Approach for removing variables one by one based on the Pvalues and VIF values."
   ]
  },
  {
   "cell_type": "markdown",
   "metadata": {},
   "source": [
    "We will be using the LinearRegression function from SciKit Learn for its compatibility with RFE (Recursive Feature Elimination which is a utility from sklearn)"
   ]
  },
  {
   "cell_type": "markdown",
   "metadata": {},
   "source": [
    "### RFE\n",
    "Recursive feature elimination"
   ]
  },
  {
   "cell_type": "code",
   "execution_count": 34,
   "metadata": {},
   "outputs": [],
   "source": [
    "# Importing RFE and LinearRegression\n",
    "from sklearn.feature_selection import RFE\n",
    "from sklearn.linear_model import LinearRegression"
   ]
  },
  {
   "cell_type": "code",
   "execution_count": 35,
   "metadata": {},
   "outputs": [],
   "source": [
    "# Running RFE with selecting 15 variables \n",
    "lm = LinearRegression()\n",
    "lm.fit(X_train, y_train)\n",
    "\n",
    "np.random.seed(0)\n",
    "rfe = RFE(lm, 15)             # running RFE,15 is the number of variables we want RFE to select\n",
    "rfe = rfe.fit(X_train, y_train)"
   ]
  },
  {
   "cell_type": "code",
   "execution_count": 42,
   "metadata": {},
   "outputs": [
    {
     "data": {
      "text/plain": [
       "[('holiday', True, 1),\n",
       " ('workingday', False, 3),\n",
       " ('temp', True, 1),\n",
       " ('humidity', True, 1),\n",
       " ('windspeed', True, 1),\n",
       " ('month_Aug', False, 9),\n",
       " ('month_Dec', True, 1),\n",
       " ('month_Feb', False, 2),\n",
       " ('month_Jan', True, 1),\n",
       " ('month_Jul', True, 1),\n",
       " ('month_Jun', False, 13),\n",
       " ('month_Mar', False, 14),\n",
       " ('month_May', False, 6),\n",
       " ('month_Nov', True, 1),\n",
       " ('month_Oct', False, 11),\n",
       " ('month_Sep', True, 1),\n",
       " ('season_spring', True, 1),\n",
       " ('season_summer', True, 1),\n",
       " ('season_winter', True, 1),\n",
       " ('weather_Light rain_Light snow_Thunderstorm', True, 1),\n",
       " ('weather_Mist_cloudy', True, 1),\n",
       " ('day_Monday', False, 8),\n",
       " ('day_Saturday', False, 4),\n",
       " ('day_Sunday', False, 5),\n",
       " ('day_Thursday', False, 12),\n",
       " ('day_Tuesday', False, 7),\n",
       " ('day_Wednesday', False, 10),\n",
       " ('year_2019', True, 1)]"
      ]
     },
     "execution_count": 42,
     "metadata": {},
     "output_type": "execute_result"
    }
   ],
   "source": [
    "list(zip(X_train.columns,rfe.support_,rfe.ranking_))  \n",
    "\n",
    "# rfe_support_ : tells whether RFE selected the variable or not\n",
    "# rfe.ranking_ : tells the next best variable to be selected and ranks accordingly , The numbers \n",
    "#                 beside the variables indicate the importance of that variable."
   ]
  },
  {
   "cell_type": "code",
   "execution_count": 36,
   "metadata": {},
   "outputs": [
    {
     "data": {
      "text/plain": [
       "Index(['holiday', 'temp', 'humidity', 'windspeed', 'month_Dec', 'month_Jan',\n",
       "       'month_Jul', 'month_Nov', 'month_Sep', 'season_spring', 'season_summer',\n",
       "       'season_winter', 'weather_Light rain_Light snow_Thunderstorm',\n",
       "       'weather_Mist_cloudy', 'year_2019'],\n",
       "      dtype='object')"
      ]
     },
     "execution_count": 36,
     "metadata": {},
     "output_type": "execute_result"
    }
   ],
   "source": [
    "# Looking at the cols that RFE selected\n",
    "col = X_train.columns[rfe.support_]\n",
    "col"
   ]
  },
  {
   "cell_type": "markdown",
   "metadata": {},
   "source": [
    "### Building model using statsmodel, for the detailed statistics"
   ]
  },
  {
   "cell_type": "code",
   "execution_count": 37,
   "metadata": {},
   "outputs": [],
   "source": [
    "# Creating X_train_rfe dataframe with RFE selected variables\n",
    "X_train_rfe = X_train[col]"
   ]
  },
  {
   "cell_type": "code",
   "execution_count": 38,
   "metadata": {},
   "outputs": [],
   "source": [
    "# Adding a constant variable \n",
    "import statsmodels.api as sm  \n",
    "X_train_rfe = sm.add_constant(X_train_rfe)"
   ]
  },
  {
   "cell_type": "code",
   "execution_count": 39,
   "metadata": {},
   "outputs": [],
   "source": [
    "# Running the linear model\n",
    "lm = sm.OLS(y_train,X_train_rfe).fit() "
   ]
  },
  {
   "cell_type": "markdown",
   "metadata": {},
   "source": [
    "### Model - 1"
   ]
  },
  {
   "cell_type": "code",
   "execution_count": 40,
   "metadata": {},
   "outputs": [
    {
     "data": {
      "text/html": [
       "<table class=\"simpletable\">\n",
       "<caption>OLS Regression Results</caption>\n",
       "<tr>\n",
       "  <th>Dep. Variable:</th>          <td>count</td>      <th>  R-squared:         </th> <td>   0.845</td> \n",
       "</tr>\n",
       "<tr>\n",
       "  <th>Model:</th>                   <td>OLS</td>       <th>  Adj. R-squared:    </th> <td>   0.841</td> \n",
       "</tr>\n",
       "<tr>\n",
       "  <th>Method:</th>             <td>Least Squares</td>  <th>  F-statistic:       </th> <td>   180.2</td> \n",
       "</tr>\n",
       "<tr>\n",
       "  <th>Date:</th>             <td>Thu, 29 Jul 2021</td> <th>  Prob (F-statistic):</th> <td>3.34e-189</td>\n",
       "</tr>\n",
       "<tr>\n",
       "  <th>Time:</th>                 <td>13:02:47</td>     <th>  Log-Likelihood:    </th> <td>  514.72</td> \n",
       "</tr>\n",
       "<tr>\n",
       "  <th>No. Observations:</th>      <td>   510</td>      <th>  AIC:               </th> <td>  -997.4</td> \n",
       "</tr>\n",
       "<tr>\n",
       "  <th>Df Residuals:</th>          <td>   494</td>      <th>  BIC:               </th> <td>  -929.7</td> \n",
       "</tr>\n",
       "<tr>\n",
       "  <th>Df Model:</th>              <td>    15</td>      <th>                     </th>     <td> </td>    \n",
       "</tr>\n",
       "<tr>\n",
       "  <th>Covariance Type:</th>      <td>nonrobust</td>    <th>                     </th>     <td> </td>    \n",
       "</tr>\n",
       "</table>\n",
       "<table class=\"simpletable\">\n",
       "<tr>\n",
       "                       <td></td>                         <th>coef</th>     <th>std err</th>      <th>t</th>      <th>P>|t|</th>  <th>[0.025</th>    <th>0.975]</th>  \n",
       "</tr>\n",
       "<tr>\n",
       "  <th>const</th>                                      <td>    0.3202</td> <td>    0.036</td> <td>    8.886</td> <td> 0.000</td> <td>    0.249</td> <td>    0.391</td>\n",
       "</tr>\n",
       "<tr>\n",
       "  <th>holiday</th>                                    <td>   -0.0912</td> <td>    0.026</td> <td>   -3.566</td> <td> 0.000</td> <td>   -0.141</td> <td>   -0.041</td>\n",
       "</tr>\n",
       "<tr>\n",
       "  <th>temp</th>                                       <td>    0.4800</td> <td>    0.037</td> <td>   12.977</td> <td> 0.000</td> <td>    0.407</td> <td>    0.553</td>\n",
       "</tr>\n",
       "<tr>\n",
       "  <th>humidity</th>                                   <td>   -0.1602</td> <td>    0.038</td> <td>   -4.240</td> <td> 0.000</td> <td>   -0.234</td> <td>   -0.086</td>\n",
       "</tr>\n",
       "<tr>\n",
       "  <th>windspeed</th>                                  <td>   -0.1885</td> <td>    0.026</td> <td>   -7.312</td> <td> 0.000</td> <td>   -0.239</td> <td>   -0.138</td>\n",
       "</tr>\n",
       "<tr>\n",
       "  <th>month_Dec</th>                                  <td>   -0.0372</td> <td>    0.017</td> <td>   -2.131</td> <td> 0.034</td> <td>   -0.071</td> <td>   -0.003</td>\n",
       "</tr>\n",
       "<tr>\n",
       "  <th>month_Jan</th>                                  <td>   -0.0437</td> <td>    0.018</td> <td>   -2.415</td> <td> 0.016</td> <td>   -0.079</td> <td>   -0.008</td>\n",
       "</tr>\n",
       "<tr>\n",
       "  <th>month_Jul</th>                                  <td>   -0.0555</td> <td>    0.018</td> <td>   -3.046</td> <td> 0.002</td> <td>   -0.091</td> <td>   -0.020</td>\n",
       "</tr>\n",
       "<tr>\n",
       "  <th>month_Nov</th>                                  <td>   -0.0409</td> <td>    0.019</td> <td>   -2.187</td> <td> 0.029</td> <td>   -0.078</td> <td>   -0.004</td>\n",
       "</tr>\n",
       "<tr>\n",
       "  <th>month_Sep</th>                                  <td>    0.0749</td> <td>    0.017</td> <td>    4.438</td> <td> 0.000</td> <td>    0.042</td> <td>    0.108</td>\n",
       "</tr>\n",
       "<tr>\n",
       "  <th>season_spring</th>                              <td>   -0.0617</td> <td>    0.021</td> <td>   -2.907</td> <td> 0.004</td> <td>   -0.103</td> <td>   -0.020</td>\n",
       "</tr>\n",
       "<tr>\n",
       "  <th>season_summer</th>                              <td>    0.0408</td> <td>    0.015</td> <td>    2.659</td> <td> 0.008</td> <td>    0.011</td> <td>    0.071</td>\n",
       "</tr>\n",
       "<tr>\n",
       "  <th>season_winter</th>                              <td>    0.1034</td> <td>    0.018</td> <td>    5.763</td> <td> 0.000</td> <td>    0.068</td> <td>    0.139</td>\n",
       "</tr>\n",
       "<tr>\n",
       "  <th>weather_Light rain_Light snow_Thunderstorm</th> <td>   -0.2481</td> <td>    0.026</td> <td>   -9.402</td> <td> 0.000</td> <td>   -0.300</td> <td>   -0.196</td>\n",
       "</tr>\n",
       "<tr>\n",
       "  <th>weather_Mist_cloudy</th>                        <td>   -0.0559</td> <td>    0.010</td> <td>   -5.338</td> <td> 0.000</td> <td>   -0.076</td> <td>   -0.035</td>\n",
       "</tr>\n",
       "<tr>\n",
       "  <th>year_2019</th>                                  <td>    0.2303</td> <td>    0.008</td> <td>   28.511</td> <td> 0.000</td> <td>    0.214</td> <td>    0.246</td>\n",
       "</tr>\n",
       "</table>\n",
       "<table class=\"simpletable\">\n",
       "<tr>\n",
       "  <th>Omnibus:</th>       <td>67.327</td> <th>  Durbin-Watson:     </th> <td>   2.016</td>\n",
       "</tr>\n",
       "<tr>\n",
       "  <th>Prob(Omnibus):</th> <td> 0.000</td> <th>  Jarque-Bera (JB):  </th> <td> 164.896</td>\n",
       "</tr>\n",
       "<tr>\n",
       "  <th>Skew:</th>          <td>-0.684</td> <th>  Prob(JB):          </th> <td>1.56e-36</td>\n",
       "</tr>\n",
       "<tr>\n",
       "  <th>Kurtosis:</th>      <td> 5.427</td> <th>  Cond. No.          </th> <td>    20.8</td>\n",
       "</tr>\n",
       "</table><br/><br/>Warnings:<br/>[1] Standard Errors assume that the covariance matrix of the errors is correctly specified."
      ],
      "text/plain": [
       "<class 'statsmodels.iolib.summary.Summary'>\n",
       "\"\"\"\n",
       "                            OLS Regression Results                            \n",
       "==============================================================================\n",
       "Dep. Variable:                  count   R-squared:                       0.845\n",
       "Model:                            OLS   Adj. R-squared:                  0.841\n",
       "Method:                 Least Squares   F-statistic:                     180.2\n",
       "Date:                Thu, 29 Jul 2021   Prob (F-statistic):          3.34e-189\n",
       "Time:                        13:02:47   Log-Likelihood:                 514.72\n",
       "No. Observations:                 510   AIC:                            -997.4\n",
       "Df Residuals:                     494   BIC:                            -929.7\n",
       "Df Model:                          15                                         \n",
       "Covariance Type:            nonrobust                                         \n",
       "==============================================================================================================\n",
       "                                                 coef    std err          t      P>|t|      [0.025      0.975]\n",
       "--------------------------------------------------------------------------------------------------------------\n",
       "const                                          0.3202      0.036      8.886      0.000       0.249       0.391\n",
       "holiday                                       -0.0912      0.026     -3.566      0.000      -0.141      -0.041\n",
       "temp                                           0.4800      0.037     12.977      0.000       0.407       0.553\n",
       "humidity                                      -0.1602      0.038     -4.240      0.000      -0.234      -0.086\n",
       "windspeed                                     -0.1885      0.026     -7.312      0.000      -0.239      -0.138\n",
       "month_Dec                                     -0.0372      0.017     -2.131      0.034      -0.071      -0.003\n",
       "month_Jan                                     -0.0437      0.018     -2.415      0.016      -0.079      -0.008\n",
       "month_Jul                                     -0.0555      0.018     -3.046      0.002      -0.091      -0.020\n",
       "month_Nov                                     -0.0409      0.019     -2.187      0.029      -0.078      -0.004\n",
       "month_Sep                                      0.0749      0.017      4.438      0.000       0.042       0.108\n",
       "season_spring                                 -0.0617      0.021     -2.907      0.004      -0.103      -0.020\n",
       "season_summer                                  0.0408      0.015      2.659      0.008       0.011       0.071\n",
       "season_winter                                  0.1034      0.018      5.763      0.000       0.068       0.139\n",
       "weather_Light rain_Light snow_Thunderstorm    -0.2481      0.026     -9.402      0.000      -0.300      -0.196\n",
       "weather_Mist_cloudy                           -0.0559      0.010     -5.338      0.000      -0.076      -0.035\n",
       "year_2019                                      0.2303      0.008     28.511      0.000       0.214       0.246\n",
       "==============================================================================\n",
       "Omnibus:                       67.327   Durbin-Watson:                   2.016\n",
       "Prob(Omnibus):                  0.000   Jarque-Bera (JB):              164.896\n",
       "Skew:                          -0.684   Prob(JB):                     1.56e-36\n",
       "Kurtosis:                       5.427   Cond. No.                         20.8\n",
       "==============================================================================\n",
       "\n",
       "Warnings:\n",
       "[1] Standard Errors assume that the covariance matrix of the errors is correctly specified.\n",
       "\"\"\""
      ]
     },
     "execution_count": 40,
     "metadata": {},
     "output_type": "execute_result"
    }
   ],
   "source": [
    "#Looking at the summary of our linear model\n",
    "lm.summary()"
   ]
  },
  {
   "cell_type": "markdown",
   "metadata": {},
   "source": [
    "In the above model , according to the pvalues , all the variables are significant. Now we will have a look at the VIF of the variables to find if any multicollinearity exists betweeen any variable."
   ]
  },
  {
   "cell_type": "markdown",
   "metadata": {},
   "source": [
    "### VIF (Variable Inflation Factor) Calculation"
   ]
  },
  {
   "cell_type": "code",
   "execution_count": 41,
   "metadata": {},
   "outputs": [
    {
     "data": {
      "text/html": [
       "<div>\n",
       "<style scoped>\n",
       "    .dataframe tbody tr th:only-of-type {\n",
       "        vertical-align: middle;\n",
       "    }\n",
       "\n",
       "    .dataframe tbody tr th {\n",
       "        vertical-align: top;\n",
       "    }\n",
       "\n",
       "    .dataframe thead th {\n",
       "        text-align: right;\n",
       "    }\n",
       "</style>\n",
       "<table border=\"1\" class=\"dataframe\">\n",
       "  <thead>\n",
       "    <tr style=\"text-align: right;\">\n",
       "      <th></th>\n",
       "      <th>Features</th>\n",
       "      <th>VIF</th>\n",
       "    </tr>\n",
       "  </thead>\n",
       "  <tbody>\n",
       "    <tr>\n",
       "      <th>0</th>\n",
       "      <td>const</td>\n",
       "      <td>82.48</td>\n",
       "    </tr>\n",
       "    <tr>\n",
       "      <th>10</th>\n",
       "      <td>season_spring</td>\n",
       "      <td>5.27</td>\n",
       "    </tr>\n",
       "    <tr>\n",
       "      <th>2</th>\n",
       "      <td>temp</td>\n",
       "      <td>4.42</td>\n",
       "    </tr>\n",
       "    <tr>\n",
       "      <th>12</th>\n",
       "      <td>season_winter</td>\n",
       "      <td>3.83</td>\n",
       "    </tr>\n",
       "    <tr>\n",
       "      <th>11</th>\n",
       "      <td>season_summer</td>\n",
       "      <td>2.76</td>\n",
       "    </tr>\n",
       "    <tr>\n",
       "      <th>3</th>\n",
       "      <td>humidity</td>\n",
       "      <td>1.93</td>\n",
       "    </tr>\n",
       "    <tr>\n",
       "      <th>8</th>\n",
       "      <td>month_Nov</td>\n",
       "      <td>1.76</td>\n",
       "    </tr>\n",
       "    <tr>\n",
       "      <th>6</th>\n",
       "      <td>month_Jan</td>\n",
       "      <td>1.68</td>\n",
       "    </tr>\n",
       "    <tr>\n",
       "      <th>14</th>\n",
       "      <td>weather_Mist_cloudy</td>\n",
       "      <td>1.57</td>\n",
       "    </tr>\n",
       "    <tr>\n",
       "      <th>5</th>\n",
       "      <td>month_Dec</td>\n",
       "      <td>1.49</td>\n",
       "    </tr>\n",
       "    <tr>\n",
       "      <th>7</th>\n",
       "      <td>month_Jul</td>\n",
       "      <td>1.49</td>\n",
       "    </tr>\n",
       "    <tr>\n",
       "      <th>9</th>\n",
       "      <td>month_Sep</td>\n",
       "      <td>1.34</td>\n",
       "    </tr>\n",
       "    <tr>\n",
       "      <th>13</th>\n",
       "      <td>weather_Light rain_Light snow_Thunderstorm</td>\n",
       "      <td>1.26</td>\n",
       "    </tr>\n",
       "    <tr>\n",
       "      <th>4</th>\n",
       "      <td>windspeed</td>\n",
       "      <td>1.21</td>\n",
       "    </tr>\n",
       "    <tr>\n",
       "      <th>15</th>\n",
       "      <td>year_2019</td>\n",
       "      <td>1.04</td>\n",
       "    </tr>\n",
       "    <tr>\n",
       "      <th>1</th>\n",
       "      <td>holiday</td>\n",
       "      <td>1.03</td>\n",
       "    </tr>\n",
       "  </tbody>\n",
       "</table>\n",
       "</div>"
      ],
      "text/plain": [
       "                                      Features    VIF\n",
       "0                                        const  82.48\n",
       "10                               season_spring   5.27\n",
       "2                                         temp   4.42\n",
       "12                               season_winter   3.83\n",
       "11                               season_summer   2.76\n",
       "3                                     humidity   1.93\n",
       "8                                    month_Nov   1.76\n",
       "6                                    month_Jan   1.68\n",
       "14                         weather_Mist_cloudy   1.57\n",
       "5                                    month_Dec   1.49\n",
       "7                                    month_Jul   1.49\n",
       "9                                    month_Sep   1.34\n",
       "13  weather_Light rain_Light snow_Thunderstorm   1.26\n",
       "4                                    windspeed   1.21\n",
       "15                                   year_2019   1.04\n",
       "1                                      holiday   1.03"
      ]
     },
     "execution_count": 41,
     "metadata": {},
     "output_type": "execute_result"
    }
   ],
   "source": [
    "# Calculate the VIFs for the new model\n",
    "from statsmodels.stats.outliers_influence import variance_inflation_factor\n",
    "\n",
    "vif = pd.DataFrame()\n",
    "X = X_train_rfe\n",
    "vif['Features'] = X.columns\n",
    "vif['VIF'] = [variance_inflation_factor(X.values, i) for i in range(X.shape[1])]\n",
    "vif['VIF'] = round(vif['VIF'], 2)\n",
    "vif = vif.sort_values(by = \"VIF\", ascending = False)\n",
    "vif"
   ]
  },
  {
   "cell_type": "markdown",
   "metadata": {},
   "source": [
    "We see that the VIF value for the 'const' is very high , so we will drop the const."
   ]
  },
  {
   "cell_type": "code",
   "execution_count": 42,
   "metadata": {},
   "outputs": [],
   "source": [
    "# Dropping the const variable\n",
    "X_train_new = X_train_rfe.drop([\"const\"], axis = 1)"
   ]
  },
  {
   "cell_type": "markdown",
   "metadata": {},
   "source": [
    "#### Rebuilding the model without const"
   ]
  },
  {
   "cell_type": "markdown",
   "metadata": {},
   "source": [
    "### Model 2"
   ]
  },
  {
   "cell_type": "code",
   "execution_count": 43,
   "metadata": {},
   "outputs": [
    {
     "data": {
      "text/html": [
       "<table class=\"simpletable\">\n",
       "<caption>OLS Regression Results</caption>\n",
       "<tr>\n",
       "  <th>Dep. Variable:</th>          <td>count</td>      <th>  R-squared:         </th> <td>   0.845</td> \n",
       "</tr>\n",
       "<tr>\n",
       "  <th>Model:</th>                   <td>OLS</td>       <th>  Adj. R-squared:    </th> <td>   0.841</td> \n",
       "</tr>\n",
       "<tr>\n",
       "  <th>Method:</th>             <td>Least Squares</td>  <th>  F-statistic:       </th> <td>   180.2</td> \n",
       "</tr>\n",
       "<tr>\n",
       "  <th>Date:</th>             <td>Thu, 29 Jul 2021</td> <th>  Prob (F-statistic):</th> <td>3.34e-189</td>\n",
       "</tr>\n",
       "<tr>\n",
       "  <th>Time:</th>                 <td>13:06:37</td>     <th>  Log-Likelihood:    </th> <td>  514.72</td> \n",
       "</tr>\n",
       "<tr>\n",
       "  <th>No. Observations:</th>      <td>   510</td>      <th>  AIC:               </th> <td>  -997.4</td> \n",
       "</tr>\n",
       "<tr>\n",
       "  <th>Df Residuals:</th>          <td>   494</td>      <th>  BIC:               </th> <td>  -929.7</td> \n",
       "</tr>\n",
       "<tr>\n",
       "  <th>Df Model:</th>              <td>    15</td>      <th>                     </th>     <td> </td>    \n",
       "</tr>\n",
       "<tr>\n",
       "  <th>Covariance Type:</th>      <td>nonrobust</td>    <th>                     </th>     <td> </td>    \n",
       "</tr>\n",
       "</table>\n",
       "<table class=\"simpletable\">\n",
       "<tr>\n",
       "                       <td></td>                         <th>coef</th>     <th>std err</th>      <th>t</th>      <th>P>|t|</th>  <th>[0.025</th>    <th>0.975]</th>  \n",
       "</tr>\n",
       "<tr>\n",
       "  <th>const</th>                                      <td>    0.3202</td> <td>    0.036</td> <td>    8.886</td> <td> 0.000</td> <td>    0.249</td> <td>    0.391</td>\n",
       "</tr>\n",
       "<tr>\n",
       "  <th>holiday</th>                                    <td>   -0.0912</td> <td>    0.026</td> <td>   -3.566</td> <td> 0.000</td> <td>   -0.141</td> <td>   -0.041</td>\n",
       "</tr>\n",
       "<tr>\n",
       "  <th>temp</th>                                       <td>    0.4800</td> <td>    0.037</td> <td>   12.977</td> <td> 0.000</td> <td>    0.407</td> <td>    0.553</td>\n",
       "</tr>\n",
       "<tr>\n",
       "  <th>humidity</th>                                   <td>   -0.1602</td> <td>    0.038</td> <td>   -4.240</td> <td> 0.000</td> <td>   -0.234</td> <td>   -0.086</td>\n",
       "</tr>\n",
       "<tr>\n",
       "  <th>windspeed</th>                                  <td>   -0.1885</td> <td>    0.026</td> <td>   -7.312</td> <td> 0.000</td> <td>   -0.239</td> <td>   -0.138</td>\n",
       "</tr>\n",
       "<tr>\n",
       "  <th>month_Dec</th>                                  <td>   -0.0372</td> <td>    0.017</td> <td>   -2.131</td> <td> 0.034</td> <td>   -0.071</td> <td>   -0.003</td>\n",
       "</tr>\n",
       "<tr>\n",
       "  <th>month_Jan</th>                                  <td>   -0.0437</td> <td>    0.018</td> <td>   -2.415</td> <td> 0.016</td> <td>   -0.079</td> <td>   -0.008</td>\n",
       "</tr>\n",
       "<tr>\n",
       "  <th>month_Jul</th>                                  <td>   -0.0555</td> <td>    0.018</td> <td>   -3.046</td> <td> 0.002</td> <td>   -0.091</td> <td>   -0.020</td>\n",
       "</tr>\n",
       "<tr>\n",
       "  <th>month_Nov</th>                                  <td>   -0.0409</td> <td>    0.019</td> <td>   -2.187</td> <td> 0.029</td> <td>   -0.078</td> <td>   -0.004</td>\n",
       "</tr>\n",
       "<tr>\n",
       "  <th>month_Sep</th>                                  <td>    0.0749</td> <td>    0.017</td> <td>    4.438</td> <td> 0.000</td> <td>    0.042</td> <td>    0.108</td>\n",
       "</tr>\n",
       "<tr>\n",
       "  <th>season_spring</th>                              <td>   -0.0617</td> <td>    0.021</td> <td>   -2.907</td> <td> 0.004</td> <td>   -0.103</td> <td>   -0.020</td>\n",
       "</tr>\n",
       "<tr>\n",
       "  <th>season_summer</th>                              <td>    0.0408</td> <td>    0.015</td> <td>    2.659</td> <td> 0.008</td> <td>    0.011</td> <td>    0.071</td>\n",
       "</tr>\n",
       "<tr>\n",
       "  <th>season_winter</th>                              <td>    0.1034</td> <td>    0.018</td> <td>    5.763</td> <td> 0.000</td> <td>    0.068</td> <td>    0.139</td>\n",
       "</tr>\n",
       "<tr>\n",
       "  <th>weather_Light rain_Light snow_Thunderstorm</th> <td>   -0.2481</td> <td>    0.026</td> <td>   -9.402</td> <td> 0.000</td> <td>   -0.300</td> <td>   -0.196</td>\n",
       "</tr>\n",
       "<tr>\n",
       "  <th>weather_Mist_cloudy</th>                        <td>   -0.0559</td> <td>    0.010</td> <td>   -5.338</td> <td> 0.000</td> <td>   -0.076</td> <td>   -0.035</td>\n",
       "</tr>\n",
       "<tr>\n",
       "  <th>year_2019</th>                                  <td>    0.2303</td> <td>    0.008</td> <td>   28.511</td> <td> 0.000</td> <td>    0.214</td> <td>    0.246</td>\n",
       "</tr>\n",
       "</table>\n",
       "<table class=\"simpletable\">\n",
       "<tr>\n",
       "  <th>Omnibus:</th>       <td>67.327</td> <th>  Durbin-Watson:     </th> <td>   2.016</td>\n",
       "</tr>\n",
       "<tr>\n",
       "  <th>Prob(Omnibus):</th> <td> 0.000</td> <th>  Jarque-Bera (JB):  </th> <td> 164.896</td>\n",
       "</tr>\n",
       "<tr>\n",
       "  <th>Skew:</th>          <td>-0.684</td> <th>  Prob(JB):          </th> <td>1.56e-36</td>\n",
       "</tr>\n",
       "<tr>\n",
       "  <th>Kurtosis:</th>      <td> 5.427</td> <th>  Cond. No.          </th> <td>    20.8</td>\n",
       "</tr>\n",
       "</table><br/><br/>Warnings:<br/>[1] Standard Errors assume that the covariance matrix of the errors is correctly specified."
      ],
      "text/plain": [
       "<class 'statsmodels.iolib.summary.Summary'>\n",
       "\"\"\"\n",
       "                            OLS Regression Results                            \n",
       "==============================================================================\n",
       "Dep. Variable:                  count   R-squared:                       0.845\n",
       "Model:                            OLS   Adj. R-squared:                  0.841\n",
       "Method:                 Least Squares   F-statistic:                     180.2\n",
       "Date:                Thu, 29 Jul 2021   Prob (F-statistic):          3.34e-189\n",
       "Time:                        13:06:37   Log-Likelihood:                 514.72\n",
       "No. Observations:                 510   AIC:                            -997.4\n",
       "Df Residuals:                     494   BIC:                            -929.7\n",
       "Df Model:                          15                                         \n",
       "Covariance Type:            nonrobust                                         \n",
       "==============================================================================================================\n",
       "                                                 coef    std err          t      P>|t|      [0.025      0.975]\n",
       "--------------------------------------------------------------------------------------------------------------\n",
       "const                                          0.3202      0.036      8.886      0.000       0.249       0.391\n",
       "holiday                                       -0.0912      0.026     -3.566      0.000      -0.141      -0.041\n",
       "temp                                           0.4800      0.037     12.977      0.000       0.407       0.553\n",
       "humidity                                      -0.1602      0.038     -4.240      0.000      -0.234      -0.086\n",
       "windspeed                                     -0.1885      0.026     -7.312      0.000      -0.239      -0.138\n",
       "month_Dec                                     -0.0372      0.017     -2.131      0.034      -0.071      -0.003\n",
       "month_Jan                                     -0.0437      0.018     -2.415      0.016      -0.079      -0.008\n",
       "month_Jul                                     -0.0555      0.018     -3.046      0.002      -0.091      -0.020\n",
       "month_Nov                                     -0.0409      0.019     -2.187      0.029      -0.078      -0.004\n",
       "month_Sep                                      0.0749      0.017      4.438      0.000       0.042       0.108\n",
       "season_spring                                 -0.0617      0.021     -2.907      0.004      -0.103      -0.020\n",
       "season_summer                                  0.0408      0.015      2.659      0.008       0.011       0.071\n",
       "season_winter                                  0.1034      0.018      5.763      0.000       0.068       0.139\n",
       "weather_Light rain_Light snow_Thunderstorm    -0.2481      0.026     -9.402      0.000      -0.300      -0.196\n",
       "weather_Mist_cloudy                           -0.0559      0.010     -5.338      0.000      -0.076      -0.035\n",
       "year_2019                                      0.2303      0.008     28.511      0.000       0.214       0.246\n",
       "==============================================================================\n",
       "Omnibus:                       67.327   Durbin-Watson:                   2.016\n",
       "Prob(Omnibus):                  0.000   Jarque-Bera (JB):              164.896\n",
       "Skew:                          -0.684   Prob(JB):                     1.56e-36\n",
       "Kurtosis:                       5.427   Cond. No.                         20.8\n",
       "==============================================================================\n",
       "\n",
       "Warnings:\n",
       "[1] Standard Errors assume that the covariance matrix of the errors is correctly specified.\n",
       "\"\"\""
      ]
     },
     "execution_count": 43,
     "metadata": {},
     "output_type": "execute_result"
    }
   ],
   "source": [
    "# Adding a constant variable \n",
    "import statsmodels.api as sm  \n",
    "X_train_lm = sm.add_constant(X_train_new)\n",
    "\n",
    "#Running the linear model\n",
    "lm = sm.OLS(y_train,X_train_lm).fit()\n",
    "\n",
    "##Looking at the summary of our linear model\n",
    "lm.summary()"
   ]
  },
  {
   "cell_type": "markdown",
   "metadata": {},
   "source": [
    "In the above model , according to the pvalues , all the variables are significant. Now we will have a look at the VIF of the variables to find if any multicollinearity exists betweeen any variable."
   ]
  },
  {
   "cell_type": "markdown",
   "metadata": {},
   "source": [
    "Checking for VIFs again"
   ]
  },
  {
   "cell_type": "code",
   "execution_count": 44,
   "metadata": {},
   "outputs": [
    {
     "data": {
      "text/html": [
       "<div>\n",
       "<style scoped>\n",
       "    .dataframe tbody tr th:only-of-type {\n",
       "        vertical-align: middle;\n",
       "    }\n",
       "\n",
       "    .dataframe tbody tr th {\n",
       "        vertical-align: top;\n",
       "    }\n",
       "\n",
       "    .dataframe thead th {\n",
       "        text-align: right;\n",
       "    }\n",
       "</style>\n",
       "<table border=\"1\" class=\"dataframe\">\n",
       "  <thead>\n",
       "    <tr style=\"text-align: right;\">\n",
       "      <th></th>\n",
       "      <th>Features</th>\n",
       "      <th>VIF</th>\n",
       "    </tr>\n",
       "  </thead>\n",
       "  <tbody>\n",
       "    <tr>\n",
       "      <th>2</th>\n",
       "      <td>humidity</td>\n",
       "      <td>30.94</td>\n",
       "    </tr>\n",
       "    <tr>\n",
       "      <th>1</th>\n",
       "      <td>temp</td>\n",
       "      <td>17.80</td>\n",
       "    </tr>\n",
       "    <tr>\n",
       "      <th>3</th>\n",
       "      <td>windspeed</td>\n",
       "      <td>4.72</td>\n",
       "    </tr>\n",
       "    <tr>\n",
       "      <th>9</th>\n",
       "      <td>season_spring</td>\n",
       "      <td>4.37</td>\n",
       "    </tr>\n",
       "    <tr>\n",
       "      <th>11</th>\n",
       "      <td>season_winter</td>\n",
       "      <td>4.06</td>\n",
       "    </tr>\n",
       "    <tr>\n",
       "      <th>10</th>\n",
       "      <td>season_summer</td>\n",
       "      <td>2.81</td>\n",
       "    </tr>\n",
       "    <tr>\n",
       "      <th>13</th>\n",
       "      <td>weather_Mist_cloudy</td>\n",
       "      <td>2.32</td>\n",
       "    </tr>\n",
       "    <tr>\n",
       "      <th>14</th>\n",
       "      <td>year_2019</td>\n",
       "      <td>2.09</td>\n",
       "    </tr>\n",
       "    <tr>\n",
       "      <th>7</th>\n",
       "      <td>month_Nov</td>\n",
       "      <td>1.83</td>\n",
       "    </tr>\n",
       "    <tr>\n",
       "      <th>5</th>\n",
       "      <td>month_Jan</td>\n",
       "      <td>1.75</td>\n",
       "    </tr>\n",
       "    <tr>\n",
       "      <th>6</th>\n",
       "      <td>month_Jul</td>\n",
       "      <td>1.59</td>\n",
       "    </tr>\n",
       "    <tr>\n",
       "      <th>4</th>\n",
       "      <td>month_Dec</td>\n",
       "      <td>1.55</td>\n",
       "    </tr>\n",
       "    <tr>\n",
       "      <th>8</th>\n",
       "      <td>month_Sep</td>\n",
       "      <td>1.41</td>\n",
       "    </tr>\n",
       "    <tr>\n",
       "      <th>12</th>\n",
       "      <td>weather_Light rain_Light snow_Thunderstorm</td>\n",
       "      <td>1.28</td>\n",
       "    </tr>\n",
       "    <tr>\n",
       "      <th>0</th>\n",
       "      <td>holiday</td>\n",
       "      <td>1.06</td>\n",
       "    </tr>\n",
       "  </tbody>\n",
       "</table>\n",
       "</div>"
      ],
      "text/plain": [
       "                                      Features    VIF\n",
       "2                                     humidity  30.94\n",
       "1                                         temp  17.80\n",
       "3                                    windspeed   4.72\n",
       "9                                season_spring   4.37\n",
       "11                               season_winter   4.06\n",
       "10                               season_summer   2.81\n",
       "13                         weather_Mist_cloudy   2.32\n",
       "14                                   year_2019   2.09\n",
       "7                                    month_Nov   1.83\n",
       "5                                    month_Jan   1.75\n",
       "6                                    month_Jul   1.59\n",
       "4                                    month_Dec   1.55\n",
       "8                                    month_Sep   1.41\n",
       "12  weather_Light rain_Light snow_Thunderstorm   1.28\n",
       "0                                      holiday   1.06"
      ]
     },
     "execution_count": 44,
     "metadata": {},
     "output_type": "execute_result"
    }
   ],
   "source": [
    "# Calculate the VIFs for the new model\n",
    "from statsmodels.stats.outliers_influence import variance_inflation_factor\n",
    "\n",
    "vif = pd.DataFrame()\n",
    "X = X_train_new\n",
    "vif['Features'] = X.columns\n",
    "vif['VIF'] = [variance_inflation_factor(X.values, i) for i in range(X.shape[1])]\n",
    "vif['VIF'] = round(vif['VIF'], 2)\n",
    "vif = vif.sort_values(by = \"VIF\", ascending = False)\n",
    "vif"
   ]
  },
  {
   "cell_type": "markdown",
   "metadata": {},
   "source": [
    "We see that the VIF value for the variable 'humidity' is very high so we are going to drop humidity variable."
   ]
  },
  {
   "cell_type": "code",
   "execution_count": 45,
   "metadata": {},
   "outputs": [],
   "source": [
    "# Dropping the 'humidity' variable\n",
    "X_train_new = X_train_new.drop([\"humidity\"], axis = 1)"
   ]
  },
  {
   "cell_type": "markdown",
   "metadata": {},
   "source": [
    "#### Rebuilding the model without humidity"
   ]
  },
  {
   "cell_type": "markdown",
   "metadata": {},
   "source": [
    "### Model 3"
   ]
  },
  {
   "cell_type": "code",
   "execution_count": 46,
   "metadata": {},
   "outputs": [
    {
     "data": {
      "text/html": [
       "<table class=\"simpletable\">\n",
       "<caption>OLS Regression Results</caption>\n",
       "<tr>\n",
       "  <th>Dep. Variable:</th>          <td>count</td>      <th>  R-squared:         </th> <td>   0.840</td> \n",
       "</tr>\n",
       "<tr>\n",
       "  <th>Model:</th>                   <td>OLS</td>       <th>  Adj. R-squared:    </th> <td>   0.835</td> \n",
       "</tr>\n",
       "<tr>\n",
       "  <th>Method:</th>             <td>Least Squares</td>  <th>  F-statistic:       </th> <td>   185.4</td> \n",
       "</tr>\n",
       "<tr>\n",
       "  <th>Date:</th>             <td>Thu, 29 Jul 2021</td> <th>  Prob (F-statistic):</th> <td>1.57e-186</td>\n",
       "</tr>\n",
       "<tr>\n",
       "  <th>Time:</th>                 <td>13:10:50</td>     <th>  Log-Likelihood:    </th> <td>  505.61</td> \n",
       "</tr>\n",
       "<tr>\n",
       "  <th>No. Observations:</th>      <td>   510</td>      <th>  AIC:               </th> <td>  -981.2</td> \n",
       "</tr>\n",
       "<tr>\n",
       "  <th>Df Residuals:</th>          <td>   495</td>      <th>  BIC:               </th> <td>  -917.7</td> \n",
       "</tr>\n",
       "<tr>\n",
       "  <th>Df Model:</th>              <td>    14</td>      <th>                     </th>     <td> </td>    \n",
       "</tr>\n",
       "<tr>\n",
       "  <th>Covariance Type:</th>      <td>nonrobust</td>    <th>                     </th>     <td> </td>    \n",
       "</tr>\n",
       "</table>\n",
       "<table class=\"simpletable\">\n",
       "<tr>\n",
       "                       <td></td>                         <th>coef</th>     <th>std err</th>      <th>t</th>      <th>P>|t|</th>  <th>[0.025</th>    <th>0.975]</th>  \n",
       "</tr>\n",
       "<tr>\n",
       "  <th>const</th>                                      <td>    0.2466</td> <td>    0.032</td> <td>    7.679</td> <td> 0.000</td> <td>    0.184</td> <td>    0.310</td>\n",
       "</tr>\n",
       "<tr>\n",
       "  <th>holiday</th>                                    <td>   -0.0919</td> <td>    0.026</td> <td>   -3.533</td> <td> 0.000</td> <td>   -0.143</td> <td>   -0.041</td>\n",
       "</tr>\n",
       "<tr>\n",
       "  <th>temp</th>                                       <td>    0.4377</td> <td>    0.036</td> <td>   12.083</td> <td> 0.000</td> <td>    0.366</td> <td>    0.509</td>\n",
       "</tr>\n",
       "<tr>\n",
       "  <th>windspeed</th>                                  <td>   -0.1586</td> <td>    0.025</td> <td>   -6.290</td> <td> 0.000</td> <td>   -0.208</td> <td>   -0.109</td>\n",
       "</tr>\n",
       "<tr>\n",
       "  <th>month_Dec</th>                                  <td>   -0.0445</td> <td>    0.018</td> <td>   -2.520</td> <td> 0.012</td> <td>   -0.079</td> <td>   -0.010</td>\n",
       "</tr>\n",
       "<tr>\n",
       "  <th>month_Jan</th>                                  <td>   -0.0503</td> <td>    0.018</td> <td>   -2.738</td> <td> 0.006</td> <td>   -0.086</td> <td>   -0.014</td>\n",
       "</tr>\n",
       "<tr>\n",
       "  <th>month_Jul</th>                                  <td>   -0.0504</td> <td>    0.018</td> <td>   -2.725</td> <td> 0.007</td> <td>   -0.087</td> <td>   -0.014</td>\n",
       "</tr>\n",
       "<tr>\n",
       "  <th>month_Nov</th>                                  <td>   -0.0419</td> <td>    0.019</td> <td>   -2.198</td> <td> 0.028</td> <td>   -0.079</td> <td>   -0.004</td>\n",
       "</tr>\n",
       "<tr>\n",
       "  <th>month_Sep</th>                                  <td>    0.0682</td> <td>    0.017</td> <td>    3.992</td> <td> 0.000</td> <td>    0.035</td> <td>    0.102</td>\n",
       "</tr>\n",
       "<tr>\n",
       "  <th>season_spring</th>                              <td>   -0.0716</td> <td>    0.021</td> <td>   -3.337</td> <td> 0.001</td> <td>   -0.114</td> <td>   -0.029</td>\n",
       "</tr>\n",
       "<tr>\n",
       "  <th>season_summer</th>                              <td>    0.0333</td> <td>    0.015</td> <td>    2.148</td> <td> 0.032</td> <td>    0.003</td> <td>    0.064</td>\n",
       "</tr>\n",
       "<tr>\n",
       "  <th>season_winter</th>                              <td>    0.0887</td> <td>    0.018</td> <td>    4.951</td> <td> 0.000</td> <td>    0.053</td> <td>    0.124</td>\n",
       "</tr>\n",
       "<tr>\n",
       "  <th>weather_Light rain_Light snow_Thunderstorm</th> <td>   -0.2929</td> <td>    0.025</td> <td>  -11.908</td> <td> 0.000</td> <td>   -0.341</td> <td>   -0.245</td>\n",
       "</tr>\n",
       "<tr>\n",
       "  <th>weather_Mist_cloudy</th>                        <td>   -0.0814</td> <td>    0.009</td> <td>   -9.359</td> <td> 0.000</td> <td>   -0.099</td> <td>   -0.064</td>\n",
       "</tr>\n",
       "<tr>\n",
       "  <th>year_2019</th>                                  <td>    0.2343</td> <td>    0.008</td> <td>   28.709</td> <td> 0.000</td> <td>    0.218</td> <td>    0.250</td>\n",
       "</tr>\n",
       "</table>\n",
       "<table class=\"simpletable\">\n",
       "<tr>\n",
       "  <th>Omnibus:</th>       <td>70.031</td> <th>  Durbin-Watson:     </th> <td>   2.013</td>\n",
       "</tr>\n",
       "<tr>\n",
       "  <th>Prob(Omnibus):</th> <td> 0.000</td> <th>  Jarque-Bera (JB):  </th> <td> 175.566</td>\n",
       "</tr>\n",
       "<tr>\n",
       "  <th>Skew:</th>          <td>-0.702</td> <th>  Prob(JB):          </th> <td>7.52e-39</td>\n",
       "</tr>\n",
       "<tr>\n",
       "  <th>Kurtosis:</th>      <td> 5.508</td> <th>  Cond. No.          </th> <td>    18.9</td>\n",
       "</tr>\n",
       "</table><br/><br/>Warnings:<br/>[1] Standard Errors assume that the covariance matrix of the errors is correctly specified."
      ],
      "text/plain": [
       "<class 'statsmodels.iolib.summary.Summary'>\n",
       "\"\"\"\n",
       "                            OLS Regression Results                            \n",
       "==============================================================================\n",
       "Dep. Variable:                  count   R-squared:                       0.840\n",
       "Model:                            OLS   Adj. R-squared:                  0.835\n",
       "Method:                 Least Squares   F-statistic:                     185.4\n",
       "Date:                Thu, 29 Jul 2021   Prob (F-statistic):          1.57e-186\n",
       "Time:                        13:10:50   Log-Likelihood:                 505.61\n",
       "No. Observations:                 510   AIC:                            -981.2\n",
       "Df Residuals:                     495   BIC:                            -917.7\n",
       "Df Model:                          14                                         \n",
       "Covariance Type:            nonrobust                                         \n",
       "==============================================================================================================\n",
       "                                                 coef    std err          t      P>|t|      [0.025      0.975]\n",
       "--------------------------------------------------------------------------------------------------------------\n",
       "const                                          0.2466      0.032      7.679      0.000       0.184       0.310\n",
       "holiday                                       -0.0919      0.026     -3.533      0.000      -0.143      -0.041\n",
       "temp                                           0.4377      0.036     12.083      0.000       0.366       0.509\n",
       "windspeed                                     -0.1586      0.025     -6.290      0.000      -0.208      -0.109\n",
       "month_Dec                                     -0.0445      0.018     -2.520      0.012      -0.079      -0.010\n",
       "month_Jan                                     -0.0503      0.018     -2.738      0.006      -0.086      -0.014\n",
       "month_Jul                                     -0.0504      0.018     -2.725      0.007      -0.087      -0.014\n",
       "month_Nov                                     -0.0419      0.019     -2.198      0.028      -0.079      -0.004\n",
       "month_Sep                                      0.0682      0.017      3.992      0.000       0.035       0.102\n",
       "season_spring                                 -0.0716      0.021     -3.337      0.001      -0.114      -0.029\n",
       "season_summer                                  0.0333      0.015      2.148      0.032       0.003       0.064\n",
       "season_winter                                  0.0887      0.018      4.951      0.000       0.053       0.124\n",
       "weather_Light rain_Light snow_Thunderstorm    -0.2929      0.025    -11.908      0.000      -0.341      -0.245\n",
       "weather_Mist_cloudy                           -0.0814      0.009     -9.359      0.000      -0.099      -0.064\n",
       "year_2019                                      0.2343      0.008     28.709      0.000       0.218       0.250\n",
       "==============================================================================\n",
       "Omnibus:                       70.031   Durbin-Watson:                   2.013\n",
       "Prob(Omnibus):                  0.000   Jarque-Bera (JB):              175.566\n",
       "Skew:                          -0.702   Prob(JB):                     7.52e-39\n",
       "Kurtosis:                       5.508   Cond. No.                         18.9\n",
       "==============================================================================\n",
       "\n",
       "Warnings:\n",
       "[1] Standard Errors assume that the covariance matrix of the errors is correctly specified.\n",
       "\"\"\""
      ]
     },
     "execution_count": 46,
     "metadata": {},
     "output_type": "execute_result"
    }
   ],
   "source": [
    "# Adding a constant variable \n",
    "import statsmodels.api as sm  \n",
    "X_train_lm = sm.add_constant(X_train_new)\n",
    "\n",
    "#Running the linear model\n",
    "lm = sm.OLS(y_train,X_train_lm).fit()\n",
    "\n",
    "##Looking at the summary of our linear model\n",
    "lm.summary()"
   ]
  },
  {
   "cell_type": "code",
   "execution_count": 47,
   "metadata": {},
   "outputs": [
    {
     "data": {
      "text/html": [
       "<div>\n",
       "<style scoped>\n",
       "    .dataframe tbody tr th:only-of-type {\n",
       "        vertical-align: middle;\n",
       "    }\n",
       "\n",
       "    .dataframe tbody tr th {\n",
       "        vertical-align: top;\n",
       "    }\n",
       "\n",
       "    .dataframe thead th {\n",
       "        text-align: right;\n",
       "    }\n",
       "</style>\n",
       "<table border=\"1\" class=\"dataframe\">\n",
       "  <thead>\n",
       "    <tr style=\"text-align: right;\">\n",
       "      <th></th>\n",
       "      <th>Features</th>\n",
       "      <th>VIF</th>\n",
       "    </tr>\n",
       "  </thead>\n",
       "  <tbody>\n",
       "    <tr>\n",
       "      <th>1</th>\n",
       "      <td>temp</td>\n",
       "      <td>5.17</td>\n",
       "    </tr>\n",
       "    <tr>\n",
       "      <th>2</th>\n",
       "      <td>windspeed</td>\n",
       "      <td>4.67</td>\n",
       "    </tr>\n",
       "    <tr>\n",
       "      <th>10</th>\n",
       "      <td>season_winter</td>\n",
       "      <td>2.94</td>\n",
       "    </tr>\n",
       "    <tr>\n",
       "      <th>8</th>\n",
       "      <td>season_spring</td>\n",
       "      <td>2.89</td>\n",
       "    </tr>\n",
       "    <tr>\n",
       "      <th>9</th>\n",
       "      <td>season_summer</td>\n",
       "      <td>2.23</td>\n",
       "    </tr>\n",
       "    <tr>\n",
       "      <th>13</th>\n",
       "      <td>year_2019</td>\n",
       "      <td>2.07</td>\n",
       "    </tr>\n",
       "    <tr>\n",
       "      <th>6</th>\n",
       "      <td>month_Nov</td>\n",
       "      <td>1.80</td>\n",
       "    </tr>\n",
       "    <tr>\n",
       "      <th>4</th>\n",
       "      <td>month_Jan</td>\n",
       "      <td>1.66</td>\n",
       "    </tr>\n",
       "    <tr>\n",
       "      <th>5</th>\n",
       "      <td>month_Jul</td>\n",
       "      <td>1.59</td>\n",
       "    </tr>\n",
       "    <tr>\n",
       "      <th>12</th>\n",
       "      <td>weather_Mist_cloudy</td>\n",
       "      <td>1.56</td>\n",
       "    </tr>\n",
       "    <tr>\n",
       "      <th>3</th>\n",
       "      <td>month_Dec</td>\n",
       "      <td>1.46</td>\n",
       "    </tr>\n",
       "    <tr>\n",
       "      <th>7</th>\n",
       "      <td>month_Sep</td>\n",
       "      <td>1.35</td>\n",
       "    </tr>\n",
       "    <tr>\n",
       "      <th>11</th>\n",
       "      <td>weather_Light rain_Light snow_Thunderstorm</td>\n",
       "      <td>1.09</td>\n",
       "    </tr>\n",
       "    <tr>\n",
       "      <th>0</th>\n",
       "      <td>holiday</td>\n",
       "      <td>1.06</td>\n",
       "    </tr>\n",
       "  </tbody>\n",
       "</table>\n",
       "</div>"
      ],
      "text/plain": [
       "                                      Features   VIF\n",
       "1                                         temp  5.17\n",
       "2                                    windspeed  4.67\n",
       "10                               season_winter  2.94\n",
       "8                                season_spring  2.89\n",
       "9                                season_summer  2.23\n",
       "13                                   year_2019  2.07\n",
       "6                                    month_Nov  1.80\n",
       "4                                    month_Jan  1.66\n",
       "5                                    month_Jul  1.59\n",
       "12                         weather_Mist_cloudy  1.56\n",
       "3                                    month_Dec  1.46\n",
       "7                                    month_Sep  1.35\n",
       "11  weather_Light rain_Light snow_Thunderstorm  1.09\n",
       "0                                      holiday  1.06"
      ]
     },
     "execution_count": 47,
     "metadata": {},
     "output_type": "execute_result"
    }
   ],
   "source": [
    "# Calculate the VIFs for the new model\n",
    "from statsmodels.stats.outliers_influence import variance_inflation_factor\n",
    "\n",
    "vif = pd.DataFrame()\n",
    "X = X_train_new\n",
    "vif['Features'] = X.columns\n",
    "vif['VIF'] = [variance_inflation_factor(X.values, i) for i in range(X.shape[1])]\n",
    "vif['VIF'] = round(vif['VIF'], 2)\n",
    "vif = vif.sort_values(by = \"VIF\", ascending = False)\n",
    "vif"
   ]
  },
  {
   "cell_type": "markdown",
   "metadata": {},
   "source": [
    "In the above model, the variable 'windspeed' is having high vif value , therefore we drop windspeed."
   ]
  },
  {
   "cell_type": "code",
   "execution_count": 48,
   "metadata": {},
   "outputs": [],
   "source": [
    "# Dropping the 'workingday' variable\n",
    "X_train_new = X_train_new.drop([\"windspeed\"], axis = 1)"
   ]
  },
  {
   "cell_type": "markdown",
   "metadata": {},
   "source": [
    "#### Rebuilding the model without windspeed"
   ]
  },
  {
   "cell_type": "markdown",
   "metadata": {},
   "source": [
    "### Model 4"
   ]
  },
  {
   "cell_type": "code",
   "execution_count": 49,
   "metadata": {},
   "outputs": [
    {
     "data": {
      "text/html": [
       "<table class=\"simpletable\">\n",
       "<caption>OLS Regression Results</caption>\n",
       "<tr>\n",
       "  <th>Dep. Variable:</th>          <td>count</td>      <th>  R-squared:         </th> <td>   0.827</td> \n",
       "</tr>\n",
       "<tr>\n",
       "  <th>Model:</th>                   <td>OLS</td>       <th>  Adj. R-squared:    </th> <td>   0.823</td> \n",
       "</tr>\n",
       "<tr>\n",
       "  <th>Method:</th>             <td>Least Squares</td>  <th>  F-statistic:       </th> <td>   182.5</td> \n",
       "</tr>\n",
       "<tr>\n",
       "  <th>Date:</th>             <td>Thu, 29 Jul 2021</td> <th>  Prob (F-statistic):</th> <td>1.92e-179</td>\n",
       "</tr>\n",
       "<tr>\n",
       "  <th>Time:</th>                 <td>13:13:09</td>     <th>  Log-Likelihood:    </th> <td>  486.00</td> \n",
       "</tr>\n",
       "<tr>\n",
       "  <th>No. Observations:</th>      <td>   510</td>      <th>  AIC:               </th> <td>  -944.0</td> \n",
       "</tr>\n",
       "<tr>\n",
       "  <th>Df Residuals:</th>          <td>   496</td>      <th>  BIC:               </th> <td>  -884.7</td> \n",
       "</tr>\n",
       "<tr>\n",
       "  <th>Df Model:</th>              <td>    13</td>      <th>                     </th>     <td> </td>    \n",
       "</tr>\n",
       "<tr>\n",
       "  <th>Covariance Type:</th>      <td>nonrobust</td>    <th>                     </th>     <td> </td>    \n",
       "</tr>\n",
       "</table>\n",
       "<table class=\"simpletable\">\n",
       "<tr>\n",
       "                       <td></td>                         <th>coef</th>     <th>std err</th>      <th>t</th>      <th>P>|t|</th>  <th>[0.025</th>    <th>0.975]</th>  \n",
       "</tr>\n",
       "<tr>\n",
       "  <th>const</th>                                      <td>    0.1853</td> <td>    0.032</td> <td>    5.832</td> <td> 0.000</td> <td>    0.123</td> <td>    0.248</td>\n",
       "</tr>\n",
       "<tr>\n",
       "  <th>holiday</th>                                    <td>   -0.0942</td> <td>    0.027</td> <td>   -3.489</td> <td> 0.001</td> <td>   -0.147</td> <td>   -0.041</td>\n",
       "</tr>\n",
       "<tr>\n",
       "  <th>temp</th>                                       <td>    0.4614</td> <td>    0.037</td> <td>   12.337</td> <td> 0.000</td> <td>    0.388</td> <td>    0.535</td>\n",
       "</tr>\n",
       "<tr>\n",
       "  <th>month_Dec</th>                                  <td>   -0.0349</td> <td>    0.018</td> <td>   -1.910</td> <td> 0.057</td> <td>   -0.071</td> <td>    0.001</td>\n",
       "</tr>\n",
       "<tr>\n",
       "  <th>month_Jan</th>                                  <td>   -0.0336</td> <td>    0.019</td> <td>   -1.781</td> <td> 0.076</td> <td>   -0.071</td> <td>    0.003</td>\n",
       "</tr>\n",
       "<tr>\n",
       "  <th>month_Jul</th>                                  <td>   -0.0515</td> <td>    0.019</td> <td>   -2.683</td> <td> 0.008</td> <td>   -0.089</td> <td>   -0.014</td>\n",
       "</tr>\n",
       "<tr>\n",
       "  <th>month_Nov</th>                                  <td>   -0.0439</td> <td>    0.020</td> <td>   -2.220</td> <td> 0.027</td> <td>   -0.083</td> <td>   -0.005</td>\n",
       "</tr>\n",
       "<tr>\n",
       "  <th>month_Sep</th>                                  <td>    0.0734</td> <td>    0.018</td> <td>    4.145</td> <td> 0.000</td> <td>    0.039</td> <td>    0.108</td>\n",
       "</tr>\n",
       "<tr>\n",
       "  <th>season_spring</th>                              <td>   -0.0834</td> <td>    0.022</td> <td>   -3.756</td> <td> 0.000</td> <td>   -0.127</td> <td>   -0.040</td>\n",
       "</tr>\n",
       "<tr>\n",
       "  <th>season_summer</th>                              <td>    0.0250</td> <td>    0.016</td> <td>    1.561</td> <td> 0.119</td> <td>   -0.006</td> <td>    0.057</td>\n",
       "</tr>\n",
       "<tr>\n",
       "  <th>season_winter</th>                              <td>    0.0920</td> <td>    0.019</td> <td>    4.949</td> <td> 0.000</td> <td>    0.055</td> <td>    0.128</td>\n",
       "</tr>\n",
       "<tr>\n",
       "  <th>weather_Light rain_Light snow_Thunderstorm</th> <td>   -0.3071</td> <td>    0.025</td> <td>  -12.079</td> <td> 0.000</td> <td>   -0.357</td> <td>   -0.257</td>\n",
       "</tr>\n",
       "<tr>\n",
       "  <th>weather_Mist_cloudy</th>                        <td>   -0.0800</td> <td>    0.009</td> <td>   -8.860</td> <td> 0.000</td> <td>   -0.098</td> <td>   -0.062</td>\n",
       "</tr>\n",
       "<tr>\n",
       "  <th>year_2019</th>                                  <td>    0.2330</td> <td>    0.008</td> <td>   27.513</td> <td> 0.000</td> <td>    0.216</td> <td>    0.250</td>\n",
       "</tr>\n",
       "</table>\n",
       "<table class=\"simpletable\">\n",
       "<tr>\n",
       "  <th>Omnibus:</th>       <td>77.233</td> <th>  Durbin-Watson:     </th> <td>   2.008</td>\n",
       "</tr>\n",
       "<tr>\n",
       "  <th>Prob(Omnibus):</th> <td> 0.000</td> <th>  Jarque-Bera (JB):  </th> <td> 211.024</td>\n",
       "</tr>\n",
       "<tr>\n",
       "  <th>Skew:</th>          <td>-0.742</td> <th>  Prob(JB):          </th> <td>1.50e-46</td>\n",
       "</tr>\n",
       "<tr>\n",
       "  <th>Kurtosis:</th>      <td> 5.780</td> <th>  Cond. No.          </th> <td>    18.1</td>\n",
       "</tr>\n",
       "</table><br/><br/>Warnings:<br/>[1] Standard Errors assume that the covariance matrix of the errors is correctly specified."
      ],
      "text/plain": [
       "<class 'statsmodels.iolib.summary.Summary'>\n",
       "\"\"\"\n",
       "                            OLS Regression Results                            \n",
       "==============================================================================\n",
       "Dep. Variable:                  count   R-squared:                       0.827\n",
       "Model:                            OLS   Adj. R-squared:                  0.823\n",
       "Method:                 Least Squares   F-statistic:                     182.5\n",
       "Date:                Thu, 29 Jul 2021   Prob (F-statistic):          1.92e-179\n",
       "Time:                        13:13:09   Log-Likelihood:                 486.00\n",
       "No. Observations:                 510   AIC:                            -944.0\n",
       "Df Residuals:                     496   BIC:                            -884.7\n",
       "Df Model:                          13                                         \n",
       "Covariance Type:            nonrobust                                         \n",
       "==============================================================================================================\n",
       "                                                 coef    std err          t      P>|t|      [0.025      0.975]\n",
       "--------------------------------------------------------------------------------------------------------------\n",
       "const                                          0.1853      0.032      5.832      0.000       0.123       0.248\n",
       "holiday                                       -0.0942      0.027     -3.489      0.001      -0.147      -0.041\n",
       "temp                                           0.4614      0.037     12.337      0.000       0.388       0.535\n",
       "month_Dec                                     -0.0349      0.018     -1.910      0.057      -0.071       0.001\n",
       "month_Jan                                     -0.0336      0.019     -1.781      0.076      -0.071       0.003\n",
       "month_Jul                                     -0.0515      0.019     -2.683      0.008      -0.089      -0.014\n",
       "month_Nov                                     -0.0439      0.020     -2.220      0.027      -0.083      -0.005\n",
       "month_Sep                                      0.0734      0.018      4.145      0.000       0.039       0.108\n",
       "season_spring                                 -0.0834      0.022     -3.756      0.000      -0.127      -0.040\n",
       "season_summer                                  0.0250      0.016      1.561      0.119      -0.006       0.057\n",
       "season_winter                                  0.0920      0.019      4.949      0.000       0.055       0.128\n",
       "weather_Light rain_Light snow_Thunderstorm    -0.3071      0.025    -12.079      0.000      -0.357      -0.257\n",
       "weather_Mist_cloudy                           -0.0800      0.009     -8.860      0.000      -0.098      -0.062\n",
       "year_2019                                      0.2330      0.008     27.513      0.000       0.216       0.250\n",
       "==============================================================================\n",
       "Omnibus:                       77.233   Durbin-Watson:                   2.008\n",
       "Prob(Omnibus):                  0.000   Jarque-Bera (JB):              211.024\n",
       "Skew:                          -0.742   Prob(JB):                     1.50e-46\n",
       "Kurtosis:                       5.780   Cond. No.                         18.1\n",
       "==============================================================================\n",
       "\n",
       "Warnings:\n",
       "[1] Standard Errors assume that the covariance matrix of the errors is correctly specified.\n",
       "\"\"\""
      ]
     },
     "execution_count": 49,
     "metadata": {},
     "output_type": "execute_result"
    }
   ],
   "source": [
    "# Adding a constant variable \n",
    "import statsmodels.api as sm  \n",
    "X_train_lm = sm.add_constant(X_train_new)\n",
    "\n",
    "#Running the linear model\n",
    "lm = sm.OLS(y_train,X_train_lm).fit()\n",
    "\n",
    "##Looking at the summary of our linear model\n",
    "lm.summary()"
   ]
  },
  {
   "cell_type": "code",
   "execution_count": 50,
   "metadata": {},
   "outputs": [],
   "source": [
    "# Dropping the 'day_Saturday' variable\n",
    "X_train_new = X_train_new.drop([\"season_summer\"], axis = 1)"
   ]
  },
  {
   "cell_type": "markdown",
   "metadata": {},
   "source": [
    "### Model 5"
   ]
  },
  {
   "cell_type": "code",
   "execution_count": 51,
   "metadata": {},
   "outputs": [
    {
     "data": {
      "text/html": [
       "<table class=\"simpletable\">\n",
       "<caption>OLS Regression Results</caption>\n",
       "<tr>\n",
       "  <th>Dep. Variable:</th>          <td>count</td>      <th>  R-squared:         </th> <td>   0.826</td> \n",
       "</tr>\n",
       "<tr>\n",
       "  <th>Model:</th>                   <td>OLS</td>       <th>  Adj. R-squared:    </th> <td>   0.822</td> \n",
       "</tr>\n",
       "<tr>\n",
       "  <th>Method:</th>             <td>Least Squares</td>  <th>  F-statistic:       </th> <td>   196.9</td> \n",
       "</tr>\n",
       "<tr>\n",
       "  <th>Date:</th>             <td>Thu, 29 Jul 2021</td> <th>  Prob (F-statistic):</th> <td>4.48e-180</td>\n",
       "</tr>\n",
       "<tr>\n",
       "  <th>Time:</th>                 <td>13:14:17</td>     <th>  Log-Likelihood:    </th> <td>  484.75</td> \n",
       "</tr>\n",
       "<tr>\n",
       "  <th>No. Observations:</th>      <td>   510</td>      <th>  AIC:               </th> <td>  -943.5</td> \n",
       "</tr>\n",
       "<tr>\n",
       "  <th>Df Residuals:</th>          <td>   497</td>      <th>  BIC:               </th> <td>  -888.5</td> \n",
       "</tr>\n",
       "<tr>\n",
       "  <th>Df Model:</th>              <td>    12</td>      <th>                     </th>     <td> </td>    \n",
       "</tr>\n",
       "<tr>\n",
       "  <th>Covariance Type:</th>      <td>nonrobust</td>    <th>                     </th>     <td> </td>    \n",
       "</tr>\n",
       "</table>\n",
       "<table class=\"simpletable\">\n",
       "<tr>\n",
       "                       <td></td>                         <th>coef</th>     <th>std err</th>      <th>t</th>      <th>P>|t|</th>  <th>[0.025</th>    <th>0.975]</th>  \n",
       "</tr>\n",
       "<tr>\n",
       "  <th>const</th>                                      <td>    0.2190</td> <td>    0.023</td> <td>    9.374</td> <td> 0.000</td> <td>    0.173</td> <td>    0.265</td>\n",
       "</tr>\n",
       "<tr>\n",
       "  <th>holiday</th>                                    <td>   -0.0937</td> <td>    0.027</td> <td>   -3.465</td> <td> 0.001</td> <td>   -0.147</td> <td>   -0.041</td>\n",
       "</tr>\n",
       "<tr>\n",
       "  <th>temp</th>                                       <td>    0.4343</td> <td>    0.033</td> <td>   13.089</td> <td> 0.000</td> <td>    0.369</td> <td>    0.499</td>\n",
       "</tr>\n",
       "<tr>\n",
       "  <th>month_Dec</th>                                  <td>   -0.0400</td> <td>    0.018</td> <td>   -2.222</td> <td> 0.027</td> <td>   -0.075</td> <td>   -0.005</td>\n",
       "</tr>\n",
       "<tr>\n",
       "  <th>month_Jan</th>                                  <td>   -0.0380</td> <td>    0.019</td> <td>   -2.035</td> <td> 0.042</td> <td>   -0.075</td> <td>   -0.001</td>\n",
       "</tr>\n",
       "<tr>\n",
       "  <th>month_Jul</th>                                  <td>   -0.0620</td> <td>    0.018</td> <td>   -3.450</td> <td> 0.001</td> <td>   -0.097</td> <td>   -0.027</td>\n",
       "</tr>\n",
       "<tr>\n",
       "  <th>month_Nov</th>                                  <td>   -0.0491</td> <td>    0.020</td> <td>   -2.518</td> <td> 0.012</td> <td>   -0.087</td> <td>   -0.011</td>\n",
       "</tr>\n",
       "<tr>\n",
       "  <th>month_Sep</th>                                  <td>    0.0623</td> <td>    0.016</td> <td>    3.836</td> <td> 0.000</td> <td>    0.030</td> <td>    0.094</td>\n",
       "</tr>\n",
       "<tr>\n",
       "  <th>season_spring</th>                              <td>   -0.1072</td> <td>    0.016</td> <td>   -6.624</td> <td> 0.000</td> <td>   -0.139</td> <td>   -0.075</td>\n",
       "</tr>\n",
       "<tr>\n",
       "  <th>season_winter</th>                              <td>    0.0740</td> <td>    0.015</td> <td>    5.068</td> <td> 0.000</td> <td>    0.045</td> <td>    0.103</td>\n",
       "</tr>\n",
       "<tr>\n",
       "  <th>weather_Light rain_Light snow_Thunderstorm</th> <td>   -0.3083</td> <td>    0.025</td> <td>  -12.114</td> <td> 0.000</td> <td>   -0.358</td> <td>   -0.258</td>\n",
       "</tr>\n",
       "<tr>\n",
       "  <th>weather_Mist_cloudy</th>                        <td>   -0.0798</td> <td>    0.009</td> <td>   -8.830</td> <td> 0.000</td> <td>   -0.098</td> <td>   -0.062</td>\n",
       "</tr>\n",
       "<tr>\n",
       "  <th>year_2019</th>                                  <td>    0.2334</td> <td>    0.008</td> <td>   27.535</td> <td> 0.000</td> <td>    0.217</td> <td>    0.250</td>\n",
       "</tr>\n",
       "</table>\n",
       "<table class=\"simpletable\">\n",
       "<tr>\n",
       "  <th>Omnibus:</th>       <td>78.587</td> <th>  Durbin-Watson:     </th> <td>   1.990</td>\n",
       "</tr>\n",
       "<tr>\n",
       "  <th>Prob(Omnibus):</th> <td> 0.000</td> <th>  Jarque-Bera (JB):  </th> <td> 223.903</td>\n",
       "</tr>\n",
       "<tr>\n",
       "  <th>Skew:</th>          <td>-0.741</td> <th>  Prob(JB):          </th> <td>2.40e-49</td>\n",
       "</tr>\n",
       "<tr>\n",
       "  <th>Kurtosis:</th>      <td> 5.888</td> <th>  Cond. No.          </th> <td>    14.1</td>\n",
       "</tr>\n",
       "</table><br/><br/>Warnings:<br/>[1] Standard Errors assume that the covariance matrix of the errors is correctly specified."
      ],
      "text/plain": [
       "<class 'statsmodels.iolib.summary.Summary'>\n",
       "\"\"\"\n",
       "                            OLS Regression Results                            \n",
       "==============================================================================\n",
       "Dep. Variable:                  count   R-squared:                       0.826\n",
       "Model:                            OLS   Adj. R-squared:                  0.822\n",
       "Method:                 Least Squares   F-statistic:                     196.9\n",
       "Date:                Thu, 29 Jul 2021   Prob (F-statistic):          4.48e-180\n",
       "Time:                        13:14:17   Log-Likelihood:                 484.75\n",
       "No. Observations:                 510   AIC:                            -943.5\n",
       "Df Residuals:                     497   BIC:                            -888.5\n",
       "Df Model:                          12                                         \n",
       "Covariance Type:            nonrobust                                         \n",
       "==============================================================================================================\n",
       "                                                 coef    std err          t      P>|t|      [0.025      0.975]\n",
       "--------------------------------------------------------------------------------------------------------------\n",
       "const                                          0.2190      0.023      9.374      0.000       0.173       0.265\n",
       "holiday                                       -0.0937      0.027     -3.465      0.001      -0.147      -0.041\n",
       "temp                                           0.4343      0.033     13.089      0.000       0.369       0.499\n",
       "month_Dec                                     -0.0400      0.018     -2.222      0.027      -0.075      -0.005\n",
       "month_Jan                                     -0.0380      0.019     -2.035      0.042      -0.075      -0.001\n",
       "month_Jul                                     -0.0620      0.018     -3.450      0.001      -0.097      -0.027\n",
       "month_Nov                                     -0.0491      0.020     -2.518      0.012      -0.087      -0.011\n",
       "month_Sep                                      0.0623      0.016      3.836      0.000       0.030       0.094\n",
       "season_spring                                 -0.1072      0.016     -6.624      0.000      -0.139      -0.075\n",
       "season_winter                                  0.0740      0.015      5.068      0.000       0.045       0.103\n",
       "weather_Light rain_Light snow_Thunderstorm    -0.3083      0.025    -12.114      0.000      -0.358      -0.258\n",
       "weather_Mist_cloudy                           -0.0798      0.009     -8.830      0.000      -0.098      -0.062\n",
       "year_2019                                      0.2334      0.008     27.535      0.000       0.217       0.250\n",
       "==============================================================================\n",
       "Omnibus:                       78.587   Durbin-Watson:                   1.990\n",
       "Prob(Omnibus):                  0.000   Jarque-Bera (JB):              223.903\n",
       "Skew:                          -0.741   Prob(JB):                     2.40e-49\n",
       "Kurtosis:                       5.888   Cond. No.                         14.1\n",
       "==============================================================================\n",
       "\n",
       "Warnings:\n",
       "[1] Standard Errors assume that the covariance matrix of the errors is correctly specified.\n",
       "\"\"\""
      ]
     },
     "execution_count": 51,
     "metadata": {},
     "output_type": "execute_result"
    }
   ],
   "source": [
    "# Adding a constant variable \n",
    "import statsmodels.api as sm  \n",
    "X_train_lm = sm.add_constant(X_train_new)\n",
    "\n",
    "#Running the linear model\n",
    "lm = sm.OLS(y_train,X_train_lm).fit()\n",
    "\n",
    "##Looking at the summary of our linear model\n",
    "lm.summary()"
   ]
  },
  {
   "cell_type": "code",
   "execution_count": 52,
   "metadata": {},
   "outputs": [
    {
     "data": {
      "text/html": [
       "<div>\n",
       "<style scoped>\n",
       "    .dataframe tbody tr th:only-of-type {\n",
       "        vertical-align: middle;\n",
       "    }\n",
       "\n",
       "    .dataframe tbody tr th {\n",
       "        vertical-align: top;\n",
       "    }\n",
       "\n",
       "    .dataframe thead th {\n",
       "        text-align: right;\n",
       "    }\n",
       "</style>\n",
       "<table border=\"1\" class=\"dataframe\">\n",
       "  <thead>\n",
       "    <tr style=\"text-align: right;\">\n",
       "      <th></th>\n",
       "      <th>Features</th>\n",
       "      <th>VIF</th>\n",
       "    </tr>\n",
       "  </thead>\n",
       "  <tbody>\n",
       "    <tr>\n",
       "      <th>1</th>\n",
       "      <td>temp</td>\n",
       "      <td>3.04</td>\n",
       "    </tr>\n",
       "    <tr>\n",
       "      <th>8</th>\n",
       "      <td>season_winter</td>\n",
       "      <td>2.51</td>\n",
       "    </tr>\n",
       "    <tr>\n",
       "      <th>11</th>\n",
       "      <td>year_2019</td>\n",
       "      <td>2.05</td>\n",
       "    </tr>\n",
       "    <tr>\n",
       "      <th>7</th>\n",
       "      <td>season_spring</td>\n",
       "      <td>1.93</td>\n",
       "    </tr>\n",
       "    <tr>\n",
       "      <th>5</th>\n",
       "      <td>month_Nov</td>\n",
       "      <td>1.78</td>\n",
       "    </tr>\n",
       "    <tr>\n",
       "      <th>3</th>\n",
       "      <td>month_Jan</td>\n",
       "      <td>1.65</td>\n",
       "    </tr>\n",
       "    <tr>\n",
       "      <th>10</th>\n",
       "      <td>weather_Mist_cloudy</td>\n",
       "      <td>1.52</td>\n",
       "    </tr>\n",
       "    <tr>\n",
       "      <th>2</th>\n",
       "      <td>month_Dec</td>\n",
       "      <td>1.46</td>\n",
       "    </tr>\n",
       "    <tr>\n",
       "      <th>4</th>\n",
       "      <td>month_Jul</td>\n",
       "      <td>1.34</td>\n",
       "    </tr>\n",
       "    <tr>\n",
       "      <th>6</th>\n",
       "      <td>month_Sep</td>\n",
       "      <td>1.20</td>\n",
       "    </tr>\n",
       "    <tr>\n",
       "      <th>9</th>\n",
       "      <td>weather_Light rain_Light snow_Thunderstorm</td>\n",
       "      <td>1.07</td>\n",
       "    </tr>\n",
       "    <tr>\n",
       "      <th>0</th>\n",
       "      <td>holiday</td>\n",
       "      <td>1.06</td>\n",
       "    </tr>\n",
       "  </tbody>\n",
       "</table>\n",
       "</div>"
      ],
      "text/plain": [
       "                                      Features   VIF\n",
       "1                                         temp  3.04\n",
       "8                                season_winter  2.51\n",
       "11                                   year_2019  2.05\n",
       "7                                season_spring  1.93\n",
       "5                                    month_Nov  1.78\n",
       "3                                    month_Jan  1.65\n",
       "10                         weather_Mist_cloudy  1.52\n",
       "2                                    month_Dec  1.46\n",
       "4                                    month_Jul  1.34\n",
       "6                                    month_Sep  1.20\n",
       "9   weather_Light rain_Light snow_Thunderstorm  1.07\n",
       "0                                      holiday  1.06"
      ]
     },
     "execution_count": 52,
     "metadata": {},
     "output_type": "execute_result"
    }
   ],
   "source": [
    "# Calculate the VIFs for the new model\n",
    "from statsmodels.stats.outliers_influence import variance_inflation_factor\n",
    "\n",
    "vif = pd.DataFrame()\n",
    "X = X_train_new\n",
    "vif['Features'] = X.columns\n",
    "vif['VIF'] = [variance_inflation_factor(X.values, i) for i in range(X.shape[1])]\n",
    "vif['VIF'] = round(vif['VIF'], 2)\n",
    "vif = vif.sort_values(by = \"VIF\", ascending = False)\n",
    "vif"
   ]
  },
  {
   "cell_type": "code",
   "execution_count": 53,
   "metadata": {},
   "outputs": [],
   "source": [
    "# Dropping the 'month_Jan' variable\n",
    "X_train_new = X_train_new.drop([\"month_Jan\"], axis = 1)"
   ]
  },
  {
   "cell_type": "markdown",
   "metadata": {},
   "source": [
    "### Model 6"
   ]
  },
  {
   "cell_type": "code",
   "execution_count": 54,
   "metadata": {},
   "outputs": [
    {
     "data": {
      "text/html": [
       "<table class=\"simpletable\">\n",
       "<caption>OLS Regression Results</caption>\n",
       "<tr>\n",
       "  <th>Dep. Variable:</th>          <td>count</td>      <th>  R-squared:         </th> <td>   0.825</td> \n",
       "</tr>\n",
       "<tr>\n",
       "  <th>Model:</th>                   <td>OLS</td>       <th>  Adj. R-squared:    </th> <td>   0.821</td> \n",
       "</tr>\n",
       "<tr>\n",
       "  <th>Method:</th>             <td>Least Squares</td>  <th>  F-statistic:       </th> <td>   213.1</td> \n",
       "</tr>\n",
       "<tr>\n",
       "  <th>Date:</th>             <td>Thu, 29 Jul 2021</td> <th>  Prob (F-statistic):</th> <td>2.34e-180</td>\n",
       "</tr>\n",
       "<tr>\n",
       "  <th>Time:</th>                 <td>13:15:40</td>     <th>  Log-Likelihood:    </th> <td>  482.63</td> \n",
       "</tr>\n",
       "<tr>\n",
       "  <th>No. Observations:</th>      <td>   510</td>      <th>  AIC:               </th> <td>  -941.3</td> \n",
       "</tr>\n",
       "<tr>\n",
       "  <th>Df Residuals:</th>          <td>   498</td>      <th>  BIC:               </th> <td>  -890.5</td> \n",
       "</tr>\n",
       "<tr>\n",
       "  <th>Df Model:</th>              <td>    11</td>      <th>                     </th>     <td> </td>    \n",
       "</tr>\n",
       "<tr>\n",
       "  <th>Covariance Type:</th>      <td>nonrobust</td>    <th>                     </th>     <td> </td>    \n",
       "</tr>\n",
       "</table>\n",
       "<table class=\"simpletable\">\n",
       "<tr>\n",
       "                       <td></td>                         <th>coef</th>     <th>std err</th>      <th>t</th>      <th>P>|t|</th>  <th>[0.025</th>    <th>0.975]</th>  \n",
       "</tr>\n",
       "<tr>\n",
       "  <th>const</th>                                      <td>    0.2075</td> <td>    0.023</td> <td>    9.125</td> <td> 0.000</td> <td>    0.163</td> <td>    0.252</td>\n",
       "</tr>\n",
       "<tr>\n",
       "  <th>holiday</th>                                    <td>   -0.0947</td> <td>    0.027</td> <td>   -3.489</td> <td> 0.001</td> <td>   -0.148</td> <td>   -0.041</td>\n",
       "</tr>\n",
       "<tr>\n",
       "  <th>temp</th>                                       <td>    0.4524</td> <td>    0.032</td> <td>   14.112</td> <td> 0.000</td> <td>    0.389</td> <td>    0.515</td>\n",
       "</tr>\n",
       "<tr>\n",
       "  <th>month_Dec</th>                                  <td>   -0.0320</td> <td>    0.018</td> <td>   -1.816</td> <td> 0.070</td> <td>   -0.067</td> <td>    0.003</td>\n",
       "</tr>\n",
       "<tr>\n",
       "  <th>month_Jul</th>                                  <td>   -0.0659</td> <td>    0.018</td> <td>   -3.670</td> <td> 0.000</td> <td>   -0.101</td> <td>   -0.031</td>\n",
       "</tr>\n",
       "<tr>\n",
       "  <th>month_Nov</th>                                  <td>   -0.0448</td> <td>    0.019</td> <td>   -2.303</td> <td> 0.022</td> <td>   -0.083</td> <td>   -0.007</td>\n",
       "</tr>\n",
       "<tr>\n",
       "  <th>month_Sep</th>                                  <td>    0.0616</td> <td>    0.016</td> <td>    3.780</td> <td> 0.000</td> <td>    0.030</td> <td>    0.094</td>\n",
       "</tr>\n",
       "<tr>\n",
       "  <th>season_spring</th>                              <td>   -0.1151</td> <td>    0.016</td> <td>   -7.312</td> <td> 0.000</td> <td>   -0.146</td> <td>   -0.084</td>\n",
       "</tr>\n",
       "<tr>\n",
       "  <th>season_winter</th>                              <td>    0.0744</td> <td>    0.015</td> <td>    5.086</td> <td> 0.000</td> <td>    0.046</td> <td>    0.103</td>\n",
       "</tr>\n",
       "<tr>\n",
       "  <th>weather_Light rain_Light snow_Thunderstorm</th> <td>   -0.3055</td> <td>    0.025</td> <td>  -11.983</td> <td> 0.000</td> <td>   -0.356</td> <td>   -0.255</td>\n",
       "</tr>\n",
       "<tr>\n",
       "  <th>weather_Mist_cloudy</th>                        <td>   -0.0807</td> <td>    0.009</td> <td>   -8.900</td> <td> 0.000</td> <td>   -0.098</td> <td>   -0.063</td>\n",
       "</tr>\n",
       "<tr>\n",
       "  <th>year_2019</th>                                  <td>    0.2329</td> <td>    0.008</td> <td>   27.397</td> <td> 0.000</td> <td>    0.216</td> <td>    0.250</td>\n",
       "</tr>\n",
       "</table>\n",
       "<table class=\"simpletable\">\n",
       "<tr>\n",
       "  <th>Omnibus:</th>       <td>74.862</td> <th>  Durbin-Watson:     </th> <td>   1.988</td>\n",
       "</tr>\n",
       "<tr>\n",
       "  <th>Prob(Omnibus):</th> <td> 0.000</td> <th>  Jarque-Bera (JB):  </th> <td> 211.843</td>\n",
       "</tr>\n",
       "<tr>\n",
       "  <th>Skew:</th>          <td>-0.708</td> <th>  Prob(JB):          </th> <td>9.97e-47</td>\n",
       "</tr>\n",
       "<tr>\n",
       "  <th>Kurtosis:</th>      <td> 5.822</td> <th>  Cond. No.          </th> <td>    13.6</td>\n",
       "</tr>\n",
       "</table><br/><br/>Warnings:<br/>[1] Standard Errors assume that the covariance matrix of the errors is correctly specified."
      ],
      "text/plain": [
       "<class 'statsmodels.iolib.summary.Summary'>\n",
       "\"\"\"\n",
       "                            OLS Regression Results                            \n",
       "==============================================================================\n",
       "Dep. Variable:                  count   R-squared:                       0.825\n",
       "Model:                            OLS   Adj. R-squared:                  0.821\n",
       "Method:                 Least Squares   F-statistic:                     213.1\n",
       "Date:                Thu, 29 Jul 2021   Prob (F-statistic):          2.34e-180\n",
       "Time:                        13:15:40   Log-Likelihood:                 482.63\n",
       "No. Observations:                 510   AIC:                            -941.3\n",
       "Df Residuals:                     498   BIC:                            -890.5\n",
       "Df Model:                          11                                         \n",
       "Covariance Type:            nonrobust                                         \n",
       "==============================================================================================================\n",
       "                                                 coef    std err          t      P>|t|      [0.025      0.975]\n",
       "--------------------------------------------------------------------------------------------------------------\n",
       "const                                          0.2075      0.023      9.125      0.000       0.163       0.252\n",
       "holiday                                       -0.0947      0.027     -3.489      0.001      -0.148      -0.041\n",
       "temp                                           0.4524      0.032     14.112      0.000       0.389       0.515\n",
       "month_Dec                                     -0.0320      0.018     -1.816      0.070      -0.067       0.003\n",
       "month_Jul                                     -0.0659      0.018     -3.670      0.000      -0.101      -0.031\n",
       "month_Nov                                     -0.0448      0.019     -2.303      0.022      -0.083      -0.007\n",
       "month_Sep                                      0.0616      0.016      3.780      0.000       0.030       0.094\n",
       "season_spring                                 -0.1151      0.016     -7.312      0.000      -0.146      -0.084\n",
       "season_winter                                  0.0744      0.015      5.086      0.000       0.046       0.103\n",
       "weather_Light rain_Light snow_Thunderstorm    -0.3055      0.025    -11.983      0.000      -0.356      -0.255\n",
       "weather_Mist_cloudy                           -0.0807      0.009     -8.900      0.000      -0.098      -0.063\n",
       "year_2019                                      0.2329      0.008     27.397      0.000       0.216       0.250\n",
       "==============================================================================\n",
       "Omnibus:                       74.862   Durbin-Watson:                   1.988\n",
       "Prob(Omnibus):                  0.000   Jarque-Bera (JB):              211.843\n",
       "Skew:                          -0.708   Prob(JB):                     9.97e-47\n",
       "Kurtosis:                       5.822   Cond. No.                         13.6\n",
       "==============================================================================\n",
       "\n",
       "Warnings:\n",
       "[1] Standard Errors assume that the covariance matrix of the errors is correctly specified.\n",
       "\"\"\""
      ]
     },
     "execution_count": 54,
     "metadata": {},
     "output_type": "execute_result"
    }
   ],
   "source": [
    "# Adding a constant variable \n",
    "import statsmodels.api as sm  \n",
    "X_train_lm = sm.add_constant(X_train_new)\n",
    "\n",
    "#Running the linear model\n",
    "lm = sm.OLS(y_train,X_train_lm).fit()\n",
    "\n",
    "##Looking at the summary of our linear model\n",
    "lm.summary()"
   ]
  },
  {
   "cell_type": "code",
   "execution_count": 55,
   "metadata": {},
   "outputs": [
    {
     "data": {
      "text/html": [
       "<div>\n",
       "<style scoped>\n",
       "    .dataframe tbody tr th:only-of-type {\n",
       "        vertical-align: middle;\n",
       "    }\n",
       "\n",
       "    .dataframe tbody tr th {\n",
       "        vertical-align: top;\n",
       "    }\n",
       "\n",
       "    .dataframe thead th {\n",
       "        text-align: right;\n",
       "    }\n",
       "</style>\n",
       "<table border=\"1\" class=\"dataframe\">\n",
       "  <thead>\n",
       "    <tr style=\"text-align: right;\">\n",
       "      <th></th>\n",
       "      <th>Features</th>\n",
       "      <th>VIF</th>\n",
       "    </tr>\n",
       "  </thead>\n",
       "  <tbody>\n",
       "    <tr>\n",
       "      <th>1</th>\n",
       "      <td>temp</td>\n",
       "      <td>2.99</td>\n",
       "    </tr>\n",
       "    <tr>\n",
       "      <th>7</th>\n",
       "      <td>season_winter</td>\n",
       "      <td>2.49</td>\n",
       "    </tr>\n",
       "    <tr>\n",
       "      <th>10</th>\n",
       "      <td>year_2019</td>\n",
       "      <td>2.05</td>\n",
       "    </tr>\n",
       "    <tr>\n",
       "      <th>4</th>\n",
       "      <td>month_Nov</td>\n",
       "      <td>1.77</td>\n",
       "    </tr>\n",
       "    <tr>\n",
       "      <th>9</th>\n",
       "      <td>weather_Mist_cloudy</td>\n",
       "      <td>1.51</td>\n",
       "    </tr>\n",
       "    <tr>\n",
       "      <th>2</th>\n",
       "      <td>month_Dec</td>\n",
       "      <td>1.42</td>\n",
       "    </tr>\n",
       "    <tr>\n",
       "      <th>3</th>\n",
       "      <td>month_Jul</td>\n",
       "      <td>1.33</td>\n",
       "    </tr>\n",
       "    <tr>\n",
       "      <th>6</th>\n",
       "      <td>season_spring</td>\n",
       "      <td>1.29</td>\n",
       "    </tr>\n",
       "    <tr>\n",
       "      <th>5</th>\n",
       "      <td>month_Sep</td>\n",
       "      <td>1.20</td>\n",
       "    </tr>\n",
       "    <tr>\n",
       "      <th>8</th>\n",
       "      <td>weather_Light rain_Light snow_Thunderstorm</td>\n",
       "      <td>1.07</td>\n",
       "    </tr>\n",
       "    <tr>\n",
       "      <th>0</th>\n",
       "      <td>holiday</td>\n",
       "      <td>1.06</td>\n",
       "    </tr>\n",
       "  </tbody>\n",
       "</table>\n",
       "</div>"
      ],
      "text/plain": [
       "                                      Features   VIF\n",
       "1                                         temp  2.99\n",
       "7                                season_winter  2.49\n",
       "10                                   year_2019  2.05\n",
       "4                                    month_Nov  1.77\n",
       "9                          weather_Mist_cloudy  1.51\n",
       "2                                    month_Dec  1.42\n",
       "3                                    month_Jul  1.33\n",
       "6                                season_spring  1.29\n",
       "5                                    month_Sep  1.20\n",
       "8   weather_Light rain_Light snow_Thunderstorm  1.07\n",
       "0                                      holiday  1.06"
      ]
     },
     "execution_count": 55,
     "metadata": {},
     "output_type": "execute_result"
    }
   ],
   "source": [
    "# Calculate the VIFs for the new model\n",
    "from statsmodels.stats.outliers_influence import variance_inflation_factor\n",
    "\n",
    "vif = pd.DataFrame()\n",
    "X = X_train_new\n",
    "vif['Features'] = X.columns\n",
    "vif['VIF'] = [variance_inflation_factor(X.values, i) for i in range(X.shape[1])]\n",
    "vif['VIF'] = round(vif['VIF'], 2)\n",
    "vif = vif.sort_values(by = \"VIF\", ascending = False)\n",
    "vif"
   ]
  },
  {
   "cell_type": "code",
   "execution_count": 56,
   "metadata": {},
   "outputs": [],
   "source": [
    "# Dropping the 'month_Sep' variable\n",
    "X_train_new = X_train_new.drop([\"month_Sep\"], axis = 1)"
   ]
  },
  {
   "cell_type": "markdown",
   "metadata": {},
   "source": [
    "### Model 7"
   ]
  },
  {
   "cell_type": "code",
   "execution_count": 57,
   "metadata": {},
   "outputs": [
    {
     "data": {
      "text/html": [
       "<table class=\"simpletable\">\n",
       "<caption>OLS Regression Results</caption>\n",
       "<tr>\n",
       "  <th>Dep. Variable:</th>          <td>count</td>      <th>  R-squared:         </th> <td>   0.820</td> \n",
       "</tr>\n",
       "<tr>\n",
       "  <th>Model:</th>                   <td>OLS</td>       <th>  Adj. R-squared:    </th> <td>   0.816</td> \n",
       "</tr>\n",
       "<tr>\n",
       "  <th>Method:</th>             <td>Least Squares</td>  <th>  F-statistic:       </th> <td>   226.9</td> \n",
       "</tr>\n",
       "<tr>\n",
       "  <th>Date:</th>             <td>Thu, 29 Jul 2021</td> <th>  Prob (F-statistic):</th> <td>1.69e-178</td>\n",
       "</tr>\n",
       "<tr>\n",
       "  <th>Time:</th>                 <td>13:17:12</td>     <th>  Log-Likelihood:    </th> <td>  475.42</td> \n",
       "</tr>\n",
       "<tr>\n",
       "  <th>No. Observations:</th>      <td>   510</td>      <th>  AIC:               </th> <td>  -928.8</td> \n",
       "</tr>\n",
       "<tr>\n",
       "  <th>Df Residuals:</th>          <td>   499</td>      <th>  BIC:               </th> <td>  -882.3</td> \n",
       "</tr>\n",
       "<tr>\n",
       "  <th>Df Model:</th>              <td>    10</td>      <th>                     </th>     <td> </td>    \n",
       "</tr>\n",
       "<tr>\n",
       "  <th>Covariance Type:</th>      <td>nonrobust</td>    <th>                     </th>     <td> </td>    \n",
       "</tr>\n",
       "</table>\n",
       "<table class=\"simpletable\">\n",
       "<tr>\n",
       "                       <td></td>                         <th>coef</th>     <th>std err</th>      <th>t</th>      <th>P>|t|</th>  <th>[0.025</th>    <th>0.975]</th>  \n",
       "</tr>\n",
       "<tr>\n",
       "  <th>const</th>                                      <td>    0.2043</td> <td>    0.023</td> <td>    8.874</td> <td> 0.000</td> <td>    0.159</td> <td>    0.250</td>\n",
       "</tr>\n",
       "<tr>\n",
       "  <th>holiday</th>                                    <td>   -0.0874</td> <td>    0.027</td> <td>   -3.188</td> <td> 0.002</td> <td>   -0.141</td> <td>   -0.034</td>\n",
       "</tr>\n",
       "<tr>\n",
       "  <th>temp</th>                                       <td>    0.4699</td> <td>    0.032</td> <td>   14.620</td> <td> 0.000</td> <td>    0.407</td> <td>    0.533</td>\n",
       "</tr>\n",
       "<tr>\n",
       "  <th>month_Dec</th>                                  <td>   -0.0363</td> <td>    0.018</td> <td>   -2.038</td> <td> 0.042</td> <td>   -0.071</td> <td>   -0.001</td>\n",
       "</tr>\n",
       "<tr>\n",
       "  <th>month_Jul</th>                                  <td>   -0.0778</td> <td>    0.018</td> <td>   -4.344</td> <td> 0.000</td> <td>   -0.113</td> <td>   -0.043</td>\n",
       "</tr>\n",
       "<tr>\n",
       "  <th>month_Nov</th>                                  <td>   -0.0520</td> <td>    0.020</td> <td>   -2.651</td> <td> 0.008</td> <td>   -0.091</td> <td>   -0.013</td>\n",
       "</tr>\n",
       "<tr>\n",
       "  <th>season_spring</th>                              <td>   -0.1174</td> <td>    0.016</td> <td>   -7.360</td> <td> 0.000</td> <td>   -0.149</td> <td>   -0.086</td>\n",
       "</tr>\n",
       "<tr>\n",
       "  <th>season_winter</th>                              <td>    0.0769</td> <td>    0.015</td> <td>    5.187</td> <td> 0.000</td> <td>    0.048</td> <td>    0.106</td>\n",
       "</tr>\n",
       "<tr>\n",
       "  <th>weather_Light rain_Light snow_Thunderstorm</th> <td>   -0.3014</td> <td>    0.026</td> <td>  -11.679</td> <td> 0.000</td> <td>   -0.352</td> <td>   -0.251</td>\n",
       "</tr>\n",
       "<tr>\n",
       "  <th>weather_Mist_cloudy</th>                        <td>   -0.0789</td> <td>    0.009</td> <td>   -8.602</td> <td> 0.000</td> <td>   -0.097</td> <td>   -0.061</td>\n",
       "</tr>\n",
       "<tr>\n",
       "  <th>year_2019</th>                                  <td>    0.2322</td> <td>    0.009</td> <td>   26.964</td> <td> 0.000</td> <td>    0.215</td> <td>    0.249</td>\n",
       "</tr>\n",
       "</table>\n",
       "<table class=\"simpletable\">\n",
       "<tr>\n",
       "  <th>Omnibus:</th>       <td>76.202</td> <th>  Durbin-Watson:     </th> <td>   1.952</td>\n",
       "</tr>\n",
       "<tr>\n",
       "  <th>Prob(Omnibus):</th> <td> 0.000</td> <th>  Jarque-Bera (JB):  </th> <td> 218.760</td>\n",
       "</tr>\n",
       "<tr>\n",
       "  <th>Skew:</th>          <td>-0.716</td> <th>  Prob(JB):          </th> <td>3.14e-48</td>\n",
       "</tr>\n",
       "<tr>\n",
       "  <th>Kurtosis:</th>      <td> 5.871</td> <th>  Cond. No.          </th> <td>    13.5</td>\n",
       "</tr>\n",
       "</table><br/><br/>Warnings:<br/>[1] Standard Errors assume that the covariance matrix of the errors is correctly specified."
      ],
      "text/plain": [
       "<class 'statsmodels.iolib.summary.Summary'>\n",
       "\"\"\"\n",
       "                            OLS Regression Results                            \n",
       "==============================================================================\n",
       "Dep. Variable:                  count   R-squared:                       0.820\n",
       "Model:                            OLS   Adj. R-squared:                  0.816\n",
       "Method:                 Least Squares   F-statistic:                     226.9\n",
       "Date:                Thu, 29 Jul 2021   Prob (F-statistic):          1.69e-178\n",
       "Time:                        13:17:12   Log-Likelihood:                 475.42\n",
       "No. Observations:                 510   AIC:                            -928.8\n",
       "Df Residuals:                     499   BIC:                            -882.3\n",
       "Df Model:                          10                                         \n",
       "Covariance Type:            nonrobust                                         \n",
       "==============================================================================================================\n",
       "                                                 coef    std err          t      P>|t|      [0.025      0.975]\n",
       "--------------------------------------------------------------------------------------------------------------\n",
       "const                                          0.2043      0.023      8.874      0.000       0.159       0.250\n",
       "holiday                                       -0.0874      0.027     -3.188      0.002      -0.141      -0.034\n",
       "temp                                           0.4699      0.032     14.620      0.000       0.407       0.533\n",
       "month_Dec                                     -0.0363      0.018     -2.038      0.042      -0.071      -0.001\n",
       "month_Jul                                     -0.0778      0.018     -4.344      0.000      -0.113      -0.043\n",
       "month_Nov                                     -0.0520      0.020     -2.651      0.008      -0.091      -0.013\n",
       "season_spring                                 -0.1174      0.016     -7.360      0.000      -0.149      -0.086\n",
       "season_winter                                  0.0769      0.015      5.187      0.000       0.048       0.106\n",
       "weather_Light rain_Light snow_Thunderstorm    -0.3014      0.026    -11.679      0.000      -0.352      -0.251\n",
       "weather_Mist_cloudy                           -0.0789      0.009     -8.602      0.000      -0.097      -0.061\n",
       "year_2019                                      0.2322      0.009     26.964      0.000       0.215       0.249\n",
       "==============================================================================\n",
       "Omnibus:                       76.202   Durbin-Watson:                   1.952\n",
       "Prob(Omnibus):                  0.000   Jarque-Bera (JB):              218.760\n",
       "Skew:                          -0.716   Prob(JB):                     3.14e-48\n",
       "Kurtosis:                       5.871   Cond. No.                         13.5\n",
       "==============================================================================\n",
       "\n",
       "Warnings:\n",
       "[1] Standard Errors assume that the covariance matrix of the errors is correctly specified.\n",
       "\"\"\""
      ]
     },
     "execution_count": 57,
     "metadata": {},
     "output_type": "execute_result"
    }
   ],
   "source": [
    "# Adding a constant variable \n",
    "import statsmodels.api as sm  \n",
    "X_train_lm = sm.add_constant(X_train_new)\n",
    "\n",
    "#Running the linear model\n",
    "lm = sm.OLS(y_train,X_train_lm).fit()\n",
    "\n",
    "##Looking at the summary of our linear model\n",
    "lm.summary()"
   ]
  },
  {
   "cell_type": "code",
   "execution_count": 58,
   "metadata": {},
   "outputs": [
    {
     "data": {
      "text/html": [
       "<div>\n",
       "<style scoped>\n",
       "    .dataframe tbody tr th:only-of-type {\n",
       "        vertical-align: middle;\n",
       "    }\n",
       "\n",
       "    .dataframe tbody tr th {\n",
       "        vertical-align: top;\n",
       "    }\n",
       "\n",
       "    .dataframe thead th {\n",
       "        text-align: right;\n",
       "    }\n",
       "</style>\n",
       "<table border=\"1\" class=\"dataframe\">\n",
       "  <thead>\n",
       "    <tr style=\"text-align: right;\">\n",
       "      <th></th>\n",
       "      <th>Features</th>\n",
       "      <th>VIF</th>\n",
       "    </tr>\n",
       "  </thead>\n",
       "  <tbody>\n",
       "    <tr>\n",
       "      <th>1</th>\n",
       "      <td>temp</td>\n",
       "      <td>2.75</td>\n",
       "    </tr>\n",
       "    <tr>\n",
       "      <th>6</th>\n",
       "      <td>season_winter</td>\n",
       "      <td>2.49</td>\n",
       "    </tr>\n",
       "    <tr>\n",
       "      <th>9</th>\n",
       "      <td>year_2019</td>\n",
       "      <td>2.05</td>\n",
       "    </tr>\n",
       "    <tr>\n",
       "      <th>4</th>\n",
       "      <td>month_Nov</td>\n",
       "      <td>1.75</td>\n",
       "    </tr>\n",
       "    <tr>\n",
       "      <th>8</th>\n",
       "      <td>weather_Mist_cloudy</td>\n",
       "      <td>1.50</td>\n",
       "    </tr>\n",
       "    <tr>\n",
       "      <th>2</th>\n",
       "      <td>month_Dec</td>\n",
       "      <td>1.41</td>\n",
       "    </tr>\n",
       "    <tr>\n",
       "      <th>3</th>\n",
       "      <td>month_Jul</td>\n",
       "      <td>1.30</td>\n",
       "    </tr>\n",
       "    <tr>\n",
       "      <th>5</th>\n",
       "      <td>season_spring</td>\n",
       "      <td>1.28</td>\n",
       "    </tr>\n",
       "    <tr>\n",
       "      <th>7</th>\n",
       "      <td>weather_Light rain_Light snow_Thunderstorm</td>\n",
       "      <td>1.07</td>\n",
       "    </tr>\n",
       "    <tr>\n",
       "      <th>0</th>\n",
       "      <td>holiday</td>\n",
       "      <td>1.05</td>\n",
       "    </tr>\n",
       "  </tbody>\n",
       "</table>\n",
       "</div>"
      ],
      "text/plain": [
       "                                     Features   VIF\n",
       "1                                        temp  2.75\n",
       "6                               season_winter  2.49\n",
       "9                                   year_2019  2.05\n",
       "4                                   month_Nov  1.75\n",
       "8                         weather_Mist_cloudy  1.50\n",
       "2                                   month_Dec  1.41\n",
       "3                                   month_Jul  1.30\n",
       "5                               season_spring  1.28\n",
       "7  weather_Light rain_Light snow_Thunderstorm  1.07\n",
       "0                                     holiday  1.05"
      ]
     },
     "execution_count": 58,
     "metadata": {},
     "output_type": "execute_result"
    }
   ],
   "source": [
    "# Calculate the VIFs for the new model\n",
    "from statsmodels.stats.outliers_influence import variance_inflation_factor\n",
    "\n",
    "vif = pd.DataFrame()\n",
    "X = X_train_new\n",
    "vif['Features'] = X.columns\n",
    "vif['VIF'] = [variance_inflation_factor(X.values, i) for i in range(X.shape[1])]\n",
    "vif['VIF'] = round(vif['VIF'], 2)\n",
    "vif = vif.sort_values(by = \"VIF\", ascending = False)\n",
    "vif"
   ]
  },
  {
   "cell_type": "code",
   "execution_count": 59,
   "metadata": {},
   "outputs": [],
   "source": [
    "# Dropping the 'season_summer' variable\n",
    "X_train_new = X_train_new.drop([\"month_Dec\"], axis = 1)"
   ]
  },
  {
   "cell_type": "markdown",
   "metadata": {},
   "source": [
    "### Model 8"
   ]
  },
  {
   "cell_type": "code",
   "execution_count": 60,
   "metadata": {},
   "outputs": [
    {
     "data": {
      "text/html": [
       "<table class=\"simpletable\">\n",
       "<caption>OLS Regression Results</caption>\n",
       "<tr>\n",
       "  <th>Dep. Variable:</th>          <td>count</td>      <th>  R-squared:         </th> <td>   0.818</td> \n",
       "</tr>\n",
       "<tr>\n",
       "  <th>Model:</th>                   <td>OLS</td>       <th>  Adj. R-squared:    </th> <td>   0.815</td> \n",
       "</tr>\n",
       "<tr>\n",
       "  <th>Method:</th>             <td>Least Squares</td>  <th>  F-statistic:       </th> <td>   250.1</td> \n",
       "</tr>\n",
       "<tr>\n",
       "  <th>Date:</th>             <td>Thu, 29 Jul 2021</td> <th>  Prob (F-statistic):</th> <td>8.14e-179</td>\n",
       "</tr>\n",
       "<tr>\n",
       "  <th>Time:</th>                 <td>14:02:42</td>     <th>  Log-Likelihood:    </th> <td>  473.30</td> \n",
       "</tr>\n",
       "<tr>\n",
       "  <th>No. Observations:</th>      <td>   510</td>      <th>  AIC:               </th> <td>  -926.6</td> \n",
       "</tr>\n",
       "<tr>\n",
       "  <th>Df Residuals:</th>          <td>   500</td>      <th>  BIC:               </th> <td>  -884.3</td> \n",
       "</tr>\n",
       "<tr>\n",
       "  <th>Df Model:</th>              <td>     9</td>      <th>                     </th>     <td> </td>    \n",
       "</tr>\n",
       "<tr>\n",
       "  <th>Covariance Type:</th>      <td>nonrobust</td>    <th>                     </th>     <td> </td>    \n",
       "</tr>\n",
       "</table>\n",
       "<table class=\"simpletable\">\n",
       "<tr>\n",
       "                       <td></td>                         <th>coef</th>     <th>std err</th>      <th>t</th>      <th>P>|t|</th>  <th>[0.025</th>    <th>0.975]</th>  \n",
       "</tr>\n",
       "<tr>\n",
       "  <th>const</th>                                      <td>    0.1945</td> <td>    0.023</td> <td>    8.612</td> <td> 0.000</td> <td>    0.150</td> <td>    0.239</td>\n",
       "</tr>\n",
       "<tr>\n",
       "  <th>holiday</th>                                    <td>   -0.0878</td> <td>    0.028</td> <td>   -3.193</td> <td> 0.001</td> <td>   -0.142</td> <td>   -0.034</td>\n",
       "</tr>\n",
       "<tr>\n",
       "  <th>temp</th>                                       <td>    0.4840</td> <td>    0.031</td> <td>   15.370</td> <td> 0.000</td> <td>    0.422</td> <td>    0.546</td>\n",
       "</tr>\n",
       "<tr>\n",
       "  <th>month_Jul</th>                                  <td>   -0.0804</td> <td>    0.018</td> <td>   -4.489</td> <td> 0.000</td> <td>   -0.116</td> <td>   -0.045</td>\n",
       "</tr>\n",
       "<tr>\n",
       "  <th>month_Nov</th>                                  <td>   -0.0376</td> <td>    0.018</td> <td>   -2.048</td> <td> 0.041</td> <td>   -0.074</td> <td>   -0.002</td>\n",
       "</tr>\n",
       "<tr>\n",
       "  <th>season_spring</th>                              <td>   -0.1159</td> <td>    0.016</td> <td>   -7.253</td> <td> 0.000</td> <td>   -0.147</td> <td>   -0.084</td>\n",
       "</tr>\n",
       "<tr>\n",
       "  <th>season_winter</th>                              <td>    0.0662</td> <td>    0.014</td> <td>    4.761</td> <td> 0.000</td> <td>    0.039</td> <td>    0.094</td>\n",
       "</tr>\n",
       "<tr>\n",
       "  <th>weather_Light rain_Light snow_Thunderstorm</th> <td>   -0.2973</td> <td>    0.026</td> <td>  -11.519</td> <td> 0.000</td> <td>   -0.348</td> <td>   -0.247</td>\n",
       "</tr>\n",
       "<tr>\n",
       "  <th>weather_Mist_cloudy</th>                        <td>   -0.0783</td> <td>    0.009</td> <td>   -8.517</td> <td> 0.000</td> <td>   -0.096</td> <td>   -0.060</td>\n",
       "</tr>\n",
       "<tr>\n",
       "  <th>year_2019</th>                                  <td>    0.2324</td> <td>    0.009</td> <td>   26.909</td> <td> 0.000</td> <td>    0.215</td> <td>    0.249</td>\n",
       "</tr>\n",
       "</table>\n",
       "<table class=\"simpletable\">\n",
       "<tr>\n",
       "  <th>Omnibus:</th>       <td>70.826</td> <th>  Durbin-Watson:     </th> <td>   1.969</td>\n",
       "</tr>\n",
       "<tr>\n",
       "  <th>Prob(Omnibus):</th> <td> 0.000</td> <th>  Jarque-Bera (JB):  </th> <td> 191.555</td>\n",
       "</tr>\n",
       "<tr>\n",
       "  <th>Skew:</th>          <td>-0.685</td> <th>  Prob(JB):          </th> <td>2.54e-42</td>\n",
       "</tr>\n",
       "<tr>\n",
       "  <th>Kurtosis:</th>      <td> 5.672</td> <th>  Cond. No.          </th> <td>    13.1</td>\n",
       "</tr>\n",
       "</table><br/><br/>Warnings:<br/>[1] Standard Errors assume that the covariance matrix of the errors is correctly specified."
      ],
      "text/plain": [
       "<class 'statsmodels.iolib.summary.Summary'>\n",
       "\"\"\"\n",
       "                            OLS Regression Results                            \n",
       "==============================================================================\n",
       "Dep. Variable:                  count   R-squared:                       0.818\n",
       "Model:                            OLS   Adj. R-squared:                  0.815\n",
       "Method:                 Least Squares   F-statistic:                     250.1\n",
       "Date:                Thu, 29 Jul 2021   Prob (F-statistic):          8.14e-179\n",
       "Time:                        14:02:42   Log-Likelihood:                 473.30\n",
       "No. Observations:                 510   AIC:                            -926.6\n",
       "Df Residuals:                     500   BIC:                            -884.3\n",
       "Df Model:                           9                                         \n",
       "Covariance Type:            nonrobust                                         \n",
       "==============================================================================================================\n",
       "                                                 coef    std err          t      P>|t|      [0.025      0.975]\n",
       "--------------------------------------------------------------------------------------------------------------\n",
       "const                                          0.1945      0.023      8.612      0.000       0.150       0.239\n",
       "holiday                                       -0.0878      0.028     -3.193      0.001      -0.142      -0.034\n",
       "temp                                           0.4840      0.031     15.370      0.000       0.422       0.546\n",
       "month_Jul                                     -0.0804      0.018     -4.489      0.000      -0.116      -0.045\n",
       "month_Nov                                     -0.0376      0.018     -2.048      0.041      -0.074      -0.002\n",
       "season_spring                                 -0.1159      0.016     -7.253      0.000      -0.147      -0.084\n",
       "season_winter                                  0.0662      0.014      4.761      0.000       0.039       0.094\n",
       "weather_Light rain_Light snow_Thunderstorm    -0.2973      0.026    -11.519      0.000      -0.348      -0.247\n",
       "weather_Mist_cloudy                           -0.0783      0.009     -8.517      0.000      -0.096      -0.060\n",
       "year_2019                                      0.2324      0.009     26.909      0.000       0.215       0.249\n",
       "==============================================================================\n",
       "Omnibus:                       70.826   Durbin-Watson:                   1.969\n",
       "Prob(Omnibus):                  0.000   Jarque-Bera (JB):              191.555\n",
       "Skew:                          -0.685   Prob(JB):                     2.54e-42\n",
       "Kurtosis:                       5.672   Cond. No.                         13.1\n",
       "==============================================================================\n",
       "\n",
       "Warnings:\n",
       "[1] Standard Errors assume that the covariance matrix of the errors is correctly specified.\n",
       "\"\"\""
      ]
     },
     "execution_count": 60,
     "metadata": {},
     "output_type": "execute_result"
    }
   ],
   "source": [
    "# Adding a constant variable \n",
    "import statsmodels.api as sm  \n",
    "X_train_lm = sm.add_constant(X_train_new)\n",
    "\n",
    "#Running the linear model\n",
    "lm = sm.OLS(y_train,X_train_lm).fit()\n",
    "\n",
    "##Looking at the summary of our linear model\n",
    "lm.summary()"
   ]
  },
  {
   "cell_type": "code",
   "execution_count": 61,
   "metadata": {},
   "outputs": [],
   "source": [
    "# Dropping the 'season_summer' variable\n",
    "X_train_new = X_train_new.drop([\"month_Nov\"], axis = 1)"
   ]
  },
  {
   "cell_type": "markdown",
   "metadata": {},
   "source": [
    "### Model 9"
   ]
  },
  {
   "cell_type": "code",
   "execution_count": 62,
   "metadata": {},
   "outputs": [
    {
     "data": {
      "text/html": [
       "<table class=\"simpletable\">\n",
       "<caption>OLS Regression Results</caption>\n",
       "<tr>\n",
       "  <th>Dep. Variable:</th>          <td>count</td>      <th>  R-squared:         </th> <td>   0.817</td> \n",
       "</tr>\n",
       "<tr>\n",
       "  <th>Model:</th>                   <td>OLS</td>       <th>  Adj. R-squared:    </th> <td>   0.814</td> \n",
       "</tr>\n",
       "<tr>\n",
       "  <th>Method:</th>             <td>Least Squares</td>  <th>  F-statistic:       </th> <td>   279.1</td> \n",
       "</tr>\n",
       "<tr>\n",
       "  <th>Date:</th>             <td>Thu, 29 Jul 2021</td> <th>  Prob (F-statistic):</th> <td>3.79e-179</td>\n",
       "</tr>\n",
       "<tr>\n",
       "  <th>Time:</th>                 <td>14:03:51</td>     <th>  Log-Likelihood:    </th> <td>  471.17</td> \n",
       "</tr>\n",
       "<tr>\n",
       "  <th>No. Observations:</th>      <td>   510</td>      <th>  AIC:               </th> <td>  -924.3</td> \n",
       "</tr>\n",
       "<tr>\n",
       "  <th>Df Residuals:</th>          <td>   501</td>      <th>  BIC:               </th> <td>  -886.2</td> \n",
       "</tr>\n",
       "<tr>\n",
       "  <th>Df Model:</th>              <td>     8</td>      <th>                     </th>     <td> </td>    \n",
       "</tr>\n",
       "<tr>\n",
       "  <th>Covariance Type:</th>      <td>nonrobust</td>    <th>                     </th>     <td> </td>    \n",
       "</tr>\n",
       "</table>\n",
       "<table class=\"simpletable\">\n",
       "<tr>\n",
       "                       <td></td>                         <th>coef</th>     <th>std err</th>      <th>t</th>      <th>P>|t|</th>  <th>[0.025</th>    <th>0.975]</th>  \n",
       "</tr>\n",
       "<tr>\n",
       "  <th>const</th>                                      <td>    0.1882</td> <td>    0.022</td> <td>    8.385</td> <td> 0.000</td> <td>    0.144</td> <td>    0.232</td>\n",
       "</tr>\n",
       "<tr>\n",
       "  <th>holiday</th>                                    <td>   -0.0945</td> <td>    0.027</td> <td>   -3.448</td> <td> 0.001</td> <td>   -0.148</td> <td>   -0.041</td>\n",
       "</tr>\n",
       "<tr>\n",
       "  <th>temp</th>                                       <td>    0.4931</td> <td>    0.031</td> <td>   15.765</td> <td> 0.000</td> <td>    0.432</td> <td>    0.555</td>\n",
       "</tr>\n",
       "<tr>\n",
       "  <th>month_Jul</th>                                  <td>   -0.0821</td> <td>    0.018</td> <td>   -4.574</td> <td> 0.000</td> <td>   -0.117</td> <td>   -0.047</td>\n",
       "</tr>\n",
       "<tr>\n",
       "  <th>season_spring</th>                              <td>   -0.1123</td> <td>    0.016</td> <td>   -7.049</td> <td> 0.000</td> <td>   -0.144</td> <td>   -0.081</td>\n",
       "</tr>\n",
       "<tr>\n",
       "  <th>season_winter</th>                              <td>    0.0553</td> <td>    0.013</td> <td>    4.291</td> <td> 0.000</td> <td>    0.030</td> <td>    0.081</td>\n",
       "</tr>\n",
       "<tr>\n",
       "  <th>weather_Light rain_Light snow_Thunderstorm</th> <td>   -0.2950</td> <td>    0.026</td> <td>  -11.404</td> <td> 0.000</td> <td>   -0.346</td> <td>   -0.244</td>\n",
       "</tr>\n",
       "<tr>\n",
       "  <th>weather_Mist_cloudy</th>                        <td>   -0.0775</td> <td>    0.009</td> <td>   -8.407</td> <td> 0.000</td> <td>   -0.096</td> <td>   -0.059</td>\n",
       "</tr>\n",
       "<tr>\n",
       "  <th>year_2019</th>                                  <td>    0.2323</td> <td>    0.009</td> <td>   26.813</td> <td> 0.000</td> <td>    0.215</td> <td>    0.249</td>\n",
       "</tr>\n",
       "</table>\n",
       "<table class=\"simpletable\">\n",
       "<tr>\n",
       "  <th>Omnibus:</th>       <td>66.765</td> <th>  Durbin-Watson:     </th> <td>   1.974</td>\n",
       "</tr>\n",
       "<tr>\n",
       "  <th>Prob(Omnibus):</th> <td> 0.000</td> <th>  Jarque-Bera (JB):  </th> <td> 173.262</td>\n",
       "</tr>\n",
       "<tr>\n",
       "  <th>Skew:</th>          <td>-0.659</td> <th>  Prob(JB):          </th> <td>2.38e-38</td>\n",
       "</tr>\n",
       "<tr>\n",
       "  <th>Kurtosis:</th>      <td> 5.533</td> <th>  Cond. No.          </th> <td>    13.0</td>\n",
       "</tr>\n",
       "</table><br/><br/>Warnings:<br/>[1] Standard Errors assume that the covariance matrix of the errors is correctly specified."
      ],
      "text/plain": [
       "<class 'statsmodels.iolib.summary.Summary'>\n",
       "\"\"\"\n",
       "                            OLS Regression Results                            \n",
       "==============================================================================\n",
       "Dep. Variable:                  count   R-squared:                       0.817\n",
       "Model:                            OLS   Adj. R-squared:                  0.814\n",
       "Method:                 Least Squares   F-statistic:                     279.1\n",
       "Date:                Thu, 29 Jul 2021   Prob (F-statistic):          3.79e-179\n",
       "Time:                        14:03:51   Log-Likelihood:                 471.17\n",
       "No. Observations:                 510   AIC:                            -924.3\n",
       "Df Residuals:                     501   BIC:                            -886.2\n",
       "Df Model:                           8                                         \n",
       "Covariance Type:            nonrobust                                         \n",
       "==============================================================================================================\n",
       "                                                 coef    std err          t      P>|t|      [0.025      0.975]\n",
       "--------------------------------------------------------------------------------------------------------------\n",
       "const                                          0.1882      0.022      8.385      0.000       0.144       0.232\n",
       "holiday                                       -0.0945      0.027     -3.448      0.001      -0.148      -0.041\n",
       "temp                                           0.4931      0.031     15.765      0.000       0.432       0.555\n",
       "month_Jul                                     -0.0821      0.018     -4.574      0.000      -0.117      -0.047\n",
       "season_spring                                 -0.1123      0.016     -7.049      0.000      -0.144      -0.081\n",
       "season_winter                                  0.0553      0.013      4.291      0.000       0.030       0.081\n",
       "weather_Light rain_Light snow_Thunderstorm    -0.2950      0.026    -11.404      0.000      -0.346      -0.244\n",
       "weather_Mist_cloudy                           -0.0775      0.009     -8.407      0.000      -0.096      -0.059\n",
       "year_2019                                      0.2323      0.009     26.813      0.000       0.215       0.249\n",
       "==============================================================================\n",
       "Omnibus:                       66.765   Durbin-Watson:                   1.974\n",
       "Prob(Omnibus):                  0.000   Jarque-Bera (JB):              173.262\n",
       "Skew:                          -0.659   Prob(JB):                     2.38e-38\n",
       "Kurtosis:                       5.533   Cond. No.                         13.0\n",
       "==============================================================================\n",
       "\n",
       "Warnings:\n",
       "[1] Standard Errors assume that the covariance matrix of the errors is correctly specified.\n",
       "\"\"\""
      ]
     },
     "execution_count": 62,
     "metadata": {},
     "output_type": "execute_result"
    }
   ],
   "source": [
    "# Adding a constant variable \n",
    "import statsmodels.api as sm  \n",
    "X_train_lm = sm.add_constant(X_train_new)\n",
    "\n",
    "#Running the linear model\n",
    "lm = sm.OLS(y_train,X_train_lm).fit()\n",
    "\n",
    "##Looking at the summary of our linear model\n",
    "lm.summary()"
   ]
  },
  {
   "cell_type": "code",
   "execution_count": 63,
   "metadata": {},
   "outputs": [
    {
     "data": {
      "text/html": [
       "<div>\n",
       "<style scoped>\n",
       "    .dataframe tbody tr th:only-of-type {\n",
       "        vertical-align: middle;\n",
       "    }\n",
       "\n",
       "    .dataframe tbody tr th {\n",
       "        vertical-align: top;\n",
       "    }\n",
       "\n",
       "    .dataframe thead th {\n",
       "        text-align: right;\n",
       "    }\n",
       "</style>\n",
       "<table border=\"1\" class=\"dataframe\">\n",
       "  <thead>\n",
       "    <tr style=\"text-align: right;\">\n",
       "      <th></th>\n",
       "      <th>Features</th>\n",
       "      <th>VIF</th>\n",
       "    </tr>\n",
       "  </thead>\n",
       "  <tbody>\n",
       "    <tr>\n",
       "      <th>1</th>\n",
       "      <td>temp</td>\n",
       "      <td>2.74</td>\n",
       "    </tr>\n",
       "    <tr>\n",
       "      <th>7</th>\n",
       "      <td>year_2019</td>\n",
       "      <td>2.05</td>\n",
       "    </tr>\n",
       "    <tr>\n",
       "      <th>6</th>\n",
       "      <td>weather_Mist_cloudy</td>\n",
       "      <td>1.50</td>\n",
       "    </tr>\n",
       "    <tr>\n",
       "      <th>4</th>\n",
       "      <td>season_winter</td>\n",
       "      <td>1.33</td>\n",
       "    </tr>\n",
       "    <tr>\n",
       "      <th>2</th>\n",
       "      <td>month_Jul</td>\n",
       "      <td>1.29</td>\n",
       "    </tr>\n",
       "    <tr>\n",
       "      <th>3</th>\n",
       "      <td>season_spring</td>\n",
       "      <td>1.23</td>\n",
       "    </tr>\n",
       "    <tr>\n",
       "      <th>5</th>\n",
       "      <td>weather_Light rain_Light snow_Thunderstorm</td>\n",
       "      <td>1.06</td>\n",
       "    </tr>\n",
       "    <tr>\n",
       "      <th>0</th>\n",
       "      <td>holiday</td>\n",
       "      <td>1.04</td>\n",
       "    </tr>\n",
       "  </tbody>\n",
       "</table>\n",
       "</div>"
      ],
      "text/plain": [
       "                                     Features   VIF\n",
       "1                                        temp  2.74\n",
       "7                                   year_2019  2.05\n",
       "6                         weather_Mist_cloudy  1.50\n",
       "4                               season_winter  1.33\n",
       "2                                   month_Jul  1.29\n",
       "3                               season_spring  1.23\n",
       "5  weather_Light rain_Light snow_Thunderstorm  1.06\n",
       "0                                     holiday  1.04"
      ]
     },
     "execution_count": 63,
     "metadata": {},
     "output_type": "execute_result"
    }
   ],
   "source": [
    "# Calculate the VIFs for the new model\n",
    "from statsmodels.stats.outliers_influence import variance_inflation_factor\n",
    "\n",
    "vif = pd.DataFrame()\n",
    "X = X_train_new\n",
    "vif['Features'] = X.columns\n",
    "vif['VIF'] = [variance_inflation_factor(X.values, i) for i in range(X.shape[1])]\n",
    "vif['VIF'] = round(vif['VIF'], 2)\n",
    "vif = vif.sort_values(by = \"VIF\", ascending = False)\n",
    "vif"
   ]
  },
  {
   "cell_type": "markdown",
   "metadata": {},
   "source": [
    "#### From the above model ,we see that the Pvalues of all the 9 variables are very low(approx equal to 0) and VIF values are also less than 5 , which is acceptable."
   ]
  },
  {
   "cell_type": "markdown",
   "metadata": {},
   "source": [
    "We will now see the F-Statistic value ."
   ]
  },
  {
   "cell_type": "markdown",
   "metadata": {},
   "source": [
    "### F-Statistics\n",
    "      F-Statistics is used for testing the overall significance of the Model.\n",
    "\n",
    "      High value for the F-Statistics means the model is more significant and vice-versa.\n",
    "\n",
    "           `F-statistic: 279.1\n",
    "           `Prob (F-statistic): \t3.79e-179"
   ]
  },
  {
   "cell_type": "markdown",
   "metadata": {},
   "source": [
    "#### The F-Statistics value of 279.1 (greater than 1) and the Prob(F-statistic) of '~0.000'(very low) states that the overall model is significant."
   ]
  },
  {
   "cell_type": "markdown",
   "metadata": {},
   "source": [
    "#### So we can conclude it as our final model with 9 variables ."
   ]
  },
  {
   "cell_type": "markdown",
   "metadata": {},
   "source": [
    "#### Model 9 is our final model with :"
   ]
  },
  {
   "cell_type": "markdown",
   "metadata": {},
   "source": [
    " * R-squared for training set : 0.817 ( 81.7 %)\n",
    " * Adj R-squared for training set: 0.814 ( 81.4 %)"
   ]
  },
  {
   "cell_type": "markdown",
   "metadata": {},
   "source": [
    "###### R-squared = 81.7 which means that 81.4 % of the variance for the target variable ie., 'count' is explained by the predictor variables , and hence we say that it is a good model."
   ]
  },
  {
   "cell_type": "markdown",
   "metadata": {},
   "source": [
    "###### From the coefficients that we get for the variables, our linear regression equation becomes:\n",
    "\n",
    "Count = 0.1882\t + 0.4931 X temp +0.2323 X year_2019 -0.0821  X month_Jul - 0.1123 X season_spring + 0.0553 X season_winter - 0.2950 X weather_Light rain_Light snow_Thunderstorm - 0.0775 X weather_Mist_cloudly - 0.0945 X holiday"
   ]
  },
  {
   "cell_type": "markdown",
   "metadata": {},
   "source": [
    "### Residual Analysis of the training set\n",
    "Now we will try to check one of the major assumptions of the linear regression ie., checking whether the error terms are normally distributed by plotting a histogram of the error terms and see what it looks like."
   ]
  },
  {
   "cell_type": "code",
   "execution_count": 64,
   "metadata": {},
   "outputs": [],
   "source": [
    "y_train_count = lm.predict(X_train_lm)"
   ]
  },
  {
   "cell_type": "code",
   "execution_count": 65,
   "metadata": {},
   "outputs": [
    {
     "data": {
      "text/plain": [
       "Text(0.5, 0, 'Errors')"
      ]
     },
     "execution_count": 65,
     "metadata": {},
     "output_type": "execute_result"
    },
    {
     "data": {
      "image/png": "[encoded data removed]",
      "text/plain": [
       "<Figure size 432x288 with 1 Axes>"
      ]
     },
     "metadata": {},
     "output_type": "display_data"
    }
   ],
   "source": [
    "# Plotting the histogram of the error terms\n",
    "fig = plt.figure()\n",
    "sns.distplot((y_train - y_train_count), bins = 20)\n",
    "fig.suptitle('Error Terms', fontsize = 20)                   \n",
    "plt.xlabel('Errors', fontsize = 18)  "
   ]
  },
  {
   "cell_type": "markdown",
   "metadata": {},
   "source": [
    "###### Since the errors terms are normally distributed with mean=0, thus our assumption is satisfied in our model."
   ]
  },
  {
   "cell_type": "markdown",
   "metadata": {},
   "source": [
    "### Making Predictions"
   ]
  },
  {
   "cell_type": "markdown",
   "metadata": {},
   "source": [
    "##### Applying the scaling on the test set also"
   ]
  },
  {
   "cell_type": "code",
   "execution_count": 66,
   "metadata": {},
   "outputs": [],
   "source": [
    "# Applying Scaling on the continuous columns : 'windspeed' , 'temp' , 'humidity'\n",
    "vars = ['windspeed' , 'temp' , 'humidity','count']\n",
    "\n",
    "bikes_sharing_test[vars] = scaler.transform(bikes_sharing_test[vars])"
   ]
  },
  {
   "cell_type": "markdown",
   "metadata": {},
   "source": [
    "### Dividing into X_test and y_test"
   ]
  },
  {
   "cell_type": "code",
   "execution_count": 67,
   "metadata": {},
   "outputs": [],
   "source": [
    "y_test = bikes_sharing_test.pop('count')\n",
    "X_test = bikes_sharing_test"
   ]
  },
  {
   "cell_type": "code",
   "execution_count": 68,
   "metadata": {},
   "outputs": [],
   "source": [
    "# Using our model to make predictions.\n",
    "\n",
    "# Creating X_test_new dataframe by dropping variables from X_test\n",
    "X_test_new = X_test[X_train_new.columns]\n",
    "\n",
    "# Adding a constant variable \n",
    "X_test_new = sm.add_constant(X_test_new)"
   ]
  },
  {
   "cell_type": "code",
   "execution_count": 69,
   "metadata": {},
   "outputs": [],
   "source": [
    "# Making predictions\n",
    "y_pred = lm.predict(X_test_new)"
   ]
  },
  {
   "cell_type": "markdown",
   "metadata": {},
   "source": [
    "## Model Evaluation"
   ]
  },
  {
   "cell_type": "code",
   "execution_count": 70,
   "metadata": {},
   "outputs": [
    {
     "data": {
      "text/plain": [
       "Text(0, 0.5, 'y_pred')"
      ]
     },
     "execution_count": 70,
     "metadata": {},
     "output_type": "execute_result"
    },
    {
     "data": {
      "image/png": "[encoded data removed]",
      "text/plain": [
       "<Figure size 432x288 with 1 Axes>"
      ]
     },
     "metadata": {},
     "output_type": "display_data"
    }
   ],
   "source": [
    "# Plotting y_test and y_pred to understand the spread.\n",
    "fig = plt.figure()\n",
    "plt.scatter(y_test,y_pred)\n",
    "fig.suptitle('y_test vs y_pred', fontsize=20)              # Plot heading \n",
    "plt.xlabel('y_test', fontsize=18)                          # X-label\n",
    "plt.ylabel('y_pred', fontsize=16) "
   ]
  },
  {
   "cell_type": "markdown",
   "metadata": {},
   "source": [
    "The predicted values have a linear relationship with actual values."
   ]
  },
  {
   "cell_type": "markdown",
   "metadata": {},
   "source": [
    "##### Calculating R-squared value for Test set"
   ]
  },
  {
   "cell_type": "code",
   "execution_count": 71,
   "metadata": {},
   "outputs": [
    {
     "data": {
      "text/plain": [
       "0.809219784712289"
      ]
     },
     "execution_count": 71,
     "metadata": {},
     "output_type": "execute_result"
    }
   ],
   "source": [
    "from sklearn.metrics import r2_score\n",
    "r2=r2_score(y_test, y_pred)\n",
    "r2"
   ]
  },
  {
   "cell_type": "markdown",
   "metadata": {},
   "source": [
    "##### Calculating Adj. R-squared value for Test set"
   ]
  },
  {
   "cell_type": "code",
   "execution_count": 72,
   "metadata": {},
   "outputs": [
    {
     "data": {
      "text/plain": [
       "0.8010043687429617"
      ]
     },
     "execution_count": 72,
     "metadata": {},
     "output_type": "execute_result"
    }
   ],
   "source": [
    "n = X_test_new.shape[0]      # n is number of rows in X_test_new\n",
    "\n",
    "p = X_test_new.shape[1]     # p= Number of features/predictors which is number of columns in X_test_new\n",
    "\n",
    "# Calculating Adjusted R-squared value using the formula\n",
    "\n",
    "adjusted_r2 = 1-(1-r2)*(n-1)/(n-p-1)\n",
    "adjusted_r2"
   ]
  },
  {
   "cell_type": "code",
   "execution_count": 73,
   "metadata": {},
   "outputs": [
    {
     "name": "stdout",
     "output_type": "stream",
     "text": [
      "MAE: 0.07227839729924494\n",
      "MSE: 0.009061260504174882\n",
      "RMSE: 0.09519065344966848\n"
     ]
    }
   ],
   "source": [
    "# calculating the Mean Squared Error , Root Mean Squared Error and Mean Absolute error\n",
    "from sklearn import metrics\n",
    "\n",
    "print('MAE:', metrics.mean_absolute_error(y_test, y_pred))\n",
    "print('MSE:', metrics.mean_squared_error(y_test, y_pred))\n",
    "print('RMSE:', np.sqrt(metrics.mean_squared_error(y_test, y_pred)))"
   ]
  },
  {
   "cell_type": "markdown",
   "metadata": {},
   "source": [
    "##### Comparison between the results on Train and Test datasets:"
   ]
  },
  {
   "cell_type": "markdown",
   "metadata": {},
   "source": [
    "######       *R-squared Value:\n",
    "               \n",
    "               Train set : 81.7%\n",
    "               Test set : 80.9%"
   ]
  },
  {
   "cell_type": "markdown",
   "metadata": {},
   "source": [
    "###### *Adj R-squared Value:\n",
    "    \n",
    "               Train set : 81.4%\n",
    "               Test set : 80.1%"
   ]
  },
  {
   "cell_type": "markdown",
   "metadata": {},
   "source": [
    "*As we can see that the difference between the R-squared value for the train and test                 dataset is not more than 5% , therefore we can say that this is a good model .\n",
    "\n",
    "*As we can see that the difference between the Adj R-squared value for the train and                   test dataset is not more than 5% , therefore we can say that this is a good model ."
   ]
  },
  {
   "cell_type": "markdown",
   "metadata": {},
   "source": [
    "### Reporting the Final Model:"
   ]
  },
  {
   "cell_type": "markdown",
   "metadata": {},
   "source": [
    "###### From the coefficients that we get for the variables, our linear regression equation becomes:\n",
    "\n",
    "Count = 0.1882\t + 0.4931 X temp +0.2323 X year_2019 -0.0821  X month_Jul - 0.1123 X season_spring + 0.0553 X season_winter - 0.2950 X weather_Light rain_Light snow_Thunderstorm - 0.0775 X weather_Mist_cloudly - 0.0945 X holiday"
   ]
  },
  {
   "cell_type": "markdown",
   "metadata": {},
   "source": [
    "From the regression model above , we have the following variables and their coefficients which are significant in predicting the demand for shared bikes:"
   ]
  },
  {
   "cell_type": "markdown",
   "metadata": {},
   "source": [
    "temp = 0.4931\n",
    "year_2019 = 0.2323\t\n",
    "month_Jul = -0.0821\t\n",
    "season_spring = -0.1123\t\n",
    "season_winter = 0.0553\n",
    "weather_Light rain_Light snow_Thunderstorm\t-0.2950\n",
    "weather_Mist_cloudy\t-0.0775\n",
    "holiday\t-0.0945"
   ]
  },
  {
   "cell_type": "markdown",
   "metadata": {},
   "source": [
    "###### The three most significant variables affecting the demand for shared bikes are :\n",
    "\n",
    "            temperature\n",
    "            year\n",
    "            season winter"
   ]
  },
  {
   "cell_type": "markdown",
   "metadata": {},
   "source": [
    "as these features are having positive coefficients and an increase in them is going to result into an increase in the demand for shared bikes ."
   ]
  },
  {
   "cell_type": "code",
   "execution_count": null,
   "metadata": {},
   "outputs": [],
   "source": []
  }
 ],
 "metadata": {
  "kernelspec": {
   "display_name": "Python 3",
   "language": "python",
   "name": "python3"
  },
  "language_info": {
   "codemirror_mode": {
    "name": "ipython",
    "version": 3
   },
   "file_extension": ".py",
   "mimetype": "text/x-python",
   "name": "python",
   "nbconvert_exporter": "python",
   "pygments_lexer": "ipython3",
   "version": "3.8.3"
  }
 },
 "nbformat": 4,
 "nbformat_minor": 4
}
